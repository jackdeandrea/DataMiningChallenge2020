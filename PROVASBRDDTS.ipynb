{
 "cells": [
  {
   "cell_type": "markdown",
   "metadata": {},
   "source": [
    "# PROVASBRDDTS"
   ]
  },
  {
   "cell_type": "markdown",
   "metadata": {},
   "source": [
    "**Questo notebook serve a processare i dati relativi ai subreddit e a produrre come output un csv con autori sulle righe e relative predicted_proba del modello finale di questo notebook**"
   ]
  },
  {
   "cell_type": "markdown",
   "metadata": {},
   "source": [
    "Procediamo analizzando la matrice di dati con i 3 modelli più performanti. Prendo poi le predicted proba di quei 3 diversi modelli per allenare una LogisticRegression che restituisce una predcted_proba per ciascun autore"
   ]
  },
  {
   "cell_type": "code",
   "execution_count": 1,
   "metadata": {},
   "outputs": [
    {
     "name": "stdout",
     "output_type": "stream",
     "text": [
      "Populating the interactive namespace from numpy and matplotlib\n"
     ]
    }
   ],
   "source": [
    "%pylab inline\n",
    "import pandas as pd"
   ]
  },
  {
   "cell_type": "markdown",
   "metadata": {},
   "source": [
    "# Load the train data"
   ]
  },
  {
   "cell_type": "code",
   "execution_count": 2,
   "metadata": {
    "scrolled": true
   },
   "outputs": [],
   "source": [
    "train_data = pd.read_csv('/home/gdeandrea/Scrivania/UNI/Data Mining/ESAME2020/Kaggle data/train_data.csv', encoding=\"utf8\")"
   ]
  },
  {
   "cell_type": "code",
   "execution_count": 3,
   "metadata": {},
   "outputs": [
    {
     "data": {
      "text/html": [
       "<div>\n",
       "<style scoped>\n",
       "    .dataframe tbody tr th:only-of-type {\n",
       "        vertical-align: middle;\n",
       "    }\n",
       "\n",
       "    .dataframe tbody tr th {\n",
       "        vertical-align: top;\n",
       "    }\n",
       "\n",
       "    .dataframe thead th {\n",
       "        text-align: right;\n",
       "    }\n",
       "</style>\n",
       "<table border=\"1\" class=\"dataframe\">\n",
       "  <thead>\n",
       "    <tr style=\"text-align: right;\">\n",
       "      <th></th>\n",
       "      <th>author</th>\n",
       "      <th>subreddit</th>\n",
       "      <th>created_utc</th>\n",
       "      <th>body</th>\n",
       "    </tr>\n",
       "  </thead>\n",
       "  <tbody>\n",
       "    <tr>\n",
       "      <th>0</th>\n",
       "      <td>Shamus_Aran</td>\n",
       "      <td>mylittlepony</td>\n",
       "      <td>1.388534e+09</td>\n",
       "      <td>I don't think we'd get nearly as much fanficti...</td>\n",
       "    </tr>\n",
       "    <tr>\n",
       "      <th>1</th>\n",
       "      <td>Riddance</td>\n",
       "      <td>sex</td>\n",
       "      <td>1.388534e+09</td>\n",
       "      <td>Thanks. I made it up, that's how I got over my...</td>\n",
       "    </tr>\n",
       "    <tr>\n",
       "      <th>2</th>\n",
       "      <td>Secret_Wizard</td>\n",
       "      <td>DragonsDogma</td>\n",
       "      <td>1.388534e+09</td>\n",
       "      <td>Are you sure you aren't confusing Cyclops (the...</td>\n",
       "    </tr>\n",
       "    <tr>\n",
       "      <th>3</th>\n",
       "      <td>Penultimatum</td>\n",
       "      <td>malefashionadvice</td>\n",
       "      <td>1.388534e+09</td>\n",
       "      <td>dont do this to me bro</td>\n",
       "    </tr>\n",
       "    <tr>\n",
       "      <th>4</th>\n",
       "      <td>7-SE7EN-7</td>\n",
       "      <td>todayilearned</td>\n",
       "      <td>1.388534e+09</td>\n",
       "      <td>That's what we do when we can't find a mate</td>\n",
       "    </tr>\n",
       "  </tbody>\n",
       "</table>\n",
       "</div>"
      ],
      "text/plain": [
       "          author          subreddit   created_utc  \\\n",
       "0    Shamus_Aran       mylittlepony  1.388534e+09   \n",
       "1       Riddance                sex  1.388534e+09   \n",
       "2  Secret_Wizard       DragonsDogma  1.388534e+09   \n",
       "3   Penultimatum  malefashionadvice  1.388534e+09   \n",
       "4      7-SE7EN-7      todayilearned  1.388534e+09   \n",
       "\n",
       "                                                body  \n",
       "0  I don't think we'd get nearly as much fanficti...  \n",
       "1  Thanks. I made it up, that's how I got over my...  \n",
       "2  Are you sure you aren't confusing Cyclops (the...  \n",
       "3                             dont do this to me bro  \n",
       "4        That's what we do when we can't find a mate  "
      ]
     },
     "execution_count": 3,
     "metadata": {},
     "output_type": "execute_result"
    }
   ],
   "source": [
    "train_data.head()\n",
    "#shape(train_data)"
   ]
  },
  {
   "cell_type": "code",
   "execution_count": 4,
   "metadata": {},
   "outputs": [
    {
     "data": {
      "text/plain": [
       "(5000,)"
      ]
     },
     "execution_count": 4,
     "metadata": {},
     "output_type": "execute_result"
    }
   ],
   "source": [
    "train_data.author.unique().shape\n"
   ]
  },
  {
   "cell_type": "code",
   "execution_count": 5,
   "metadata": {},
   "outputs": [],
   "source": [
    "target = pd.read_csv('/home/gdeandrea/Scrivania/UNI/Data Mining/ESAME2020/Kaggle data/train_target.csv')"
   ]
  },
  {
   "cell_type": "code",
   "execution_count": 6,
   "metadata": {},
   "outputs": [
    {
     "data": {
      "text/html": [
       "<div>\n",
       "<style scoped>\n",
       "    .dataframe tbody tr th:only-of-type {\n",
       "        vertical-align: middle;\n",
       "    }\n",
       "\n",
       "    .dataframe tbody tr th {\n",
       "        vertical-align: top;\n",
       "    }\n",
       "\n",
       "    .dataframe thead th {\n",
       "        text-align: right;\n",
       "    }\n",
       "</style>\n",
       "<table border=\"1\" class=\"dataframe\">\n",
       "  <thead>\n",
       "    <tr style=\"text-align: right;\">\n",
       "      <th></th>\n",
       "      <th>author</th>\n",
       "      <th>gender</th>\n",
       "    </tr>\n",
       "  </thead>\n",
       "  <tbody>\n",
       "    <tr>\n",
       "      <th>0</th>\n",
       "      <td>RedThunder90</td>\n",
       "      <td>0</td>\n",
       "    </tr>\n",
       "    <tr>\n",
       "      <th>1</th>\n",
       "      <td>Lirkmor</td>\n",
       "      <td>1</td>\n",
       "    </tr>\n",
       "    <tr>\n",
       "      <th>2</th>\n",
       "      <td>In0chi</td>\n",
       "      <td>0</td>\n",
       "    </tr>\n",
       "    <tr>\n",
       "      <th>3</th>\n",
       "      <td>ProjectGrudge</td>\n",
       "      <td>0</td>\n",
       "    </tr>\n",
       "    <tr>\n",
       "      <th>4</th>\n",
       "      <td>TehTurtleHermit</td>\n",
       "      <td>0</td>\n",
       "    </tr>\n",
       "  </tbody>\n",
       "</table>\n",
       "</div>"
      ],
      "text/plain": [
       "            author  gender\n",
       "0     RedThunder90       0\n",
       "1          Lirkmor       1\n",
       "2           In0chi       0\n",
       "3    ProjectGrudge       0\n",
       "4  TehTurtleHermit       0"
      ]
     },
     "execution_count": 6,
     "metadata": {},
     "output_type": "execute_result"
    }
   ],
   "source": [
    "target.head()"
   ]
  },
  {
   "cell_type": "markdown",
   "metadata": {},
   "source": [
    "# Feature Extraction"
   ]
  },
  {
   "cell_type": "markdown",
   "metadata": {},
   "source": [
    "**Subreddits exctraction**"
   ]
  },
  {
   "cell_type": "code",
   "execution_count": 7,
   "metadata": {},
   "outputs": [],
   "source": [
    "subreddits = train_data.subreddit.unique() # vett. dei subreddits:\n",
    "                                           # prende da subreddit di train_data contandoli una sola volta {unique()}\n",
    "subreddits_map = pd.Series(index=subreddits, data=arange(subreddits.shape[0])) #pd.Series: indicizza i subreddit.\n",
    "                                           # vett. (nomesubreddit, etichetta)"
   ]
  },
  {
   "cell_type": "code",
   "execution_count": 8,
   "metadata": {},
   "outputs": [],
   "source": [
    "from scipy import sparse"
   ]
  },
  {
   "cell_type": "code",
   "execution_count": 9,
   "metadata": {},
   "outputs": [
    {
     "data": {
      "text/plain": [
       "<1x3468 sparse matrix of type '<class 'numpy.float64'>'\n",
       "\twith 1 stored elements in Compressed Sparse Row format>"
      ]
     },
     "execution_count": 9,
     "metadata": {},
     "output_type": "execute_result"
    }
   ],
   "source": [
    "def extract_features(group):                        # prende l'autore\n",
    "    \n",
    "    group_subreddits = group['subreddit'].values    # vett. dei nomi dei subreddit \n",
    "                                                    \n",
    "    idxs = subreddits_map[group_subreddits].values  # vettore etichette subreddit\n",
    "    \n",
    "    v = sparse.dok_matrix((1, subreddits.shape[0])) # matrice sparsa 1xN°subreddit diversi\n",
    "    \n",
    "    for idx in idxs:\n",
    "        if not np.isnan(idx):   #per ogni etichetta non nulla assegno 1 nella matrice sparsa\n",
    "                                #per ogni autore assegno a Vij il valore 1 se l'autore ha partecipato al subreddit\n",
    "                                \n",
    "            v[0, idx] = 1\n",
    "            \n",
    "    return v.tocsr()            #converto v in formato csr\n",
    "\n",
    "#es: creo v: vettore riga sparso che indica in quali subreddit RedThunder90 ha partecipato\n",
    "extract_features(train_data[train_data.author=='RedThunder90'])"
   ]
  },
  {
   "cell_type": "code",
   "execution_count": 10,
   "metadata": {},
   "outputs": [],
   "source": [
    "features_dict = {}     #creo dizionario delle features\n",
    "                       #associa a ogni autore il suo vettore riga v che indica i subreddits in cui ha partecipato\n",
    "\n",
    "for author, group in train_data.groupby('author'):  \n",
    "    features_dict[author] = extract_features(group)"
   ]
  },
  {
   "cell_type": "code",
   "execution_count": 11,
   "metadata": {},
   "outputs": [],
   "source": [
    "X = sparse.vstack([features_dict[author] for author in target.author])"
   ]
  },
  {
   "cell_type": "code",
   "execution_count": 12,
   "metadata": {},
   "outputs": [],
   "source": [
    "y = target.gender"
   ]
  },
  {
   "cell_type": "code",
   "execution_count": 13,
   "metadata": {},
   "outputs": [],
   "source": [
    "\n",
    "Xarray=X.toarray()\n",
    "\n",
    "X1 = Xarray #nel caso voglia solo i subreddits\n"
   ]
  },
  {
   "cell_type": "code",
   "execution_count": 14,
   "metadata": {},
   "outputs": [],
   "source": [
    "from sklearn.model_selection import StratifiedKFold, train_test_split\n",
    "\n",
    "#nfold = StratifiedKFold(n_splits=5)\n",
    "# Takes group information into account to avoid \n",
    "# building folds with imbalanced class distributions \n",
    "#(for binary or multiclass classification tasks).\n",
    "\n",
    "X_train, X_test, y_train, y_test = train_test_split(X1, y, test_size=.2, random_state = 32)\n"
   ]
  },
  {
   "cell_type": "markdown",
   "metadata": {},
   "source": [
    "# Model Selection - SUBREDDITS"
   ]
  },
  {
   "cell_type": "code",
   "execution_count": 15,
   "metadata": {},
   "outputs": [],
   "source": [
    "# importo cose utili\n",
    "from sklearn.model_selection import cross_val_score, GridSearchCV\n",
    "\n",
    "#importo i modelli\n",
    "from sklearn.neighbors import KNeighborsClassifier\n",
    "from sklearn.naive_bayes import GaussianNB\n",
    "from sklearn.naive_bayes import MultinomialNB\n",
    "from sklearn.linear_model import LogisticRegression\n",
    "from sklearn.svm import SVC\n",
    "from sklearn.tree import DecisionTreeClassifier\n",
    "from sklearn.ensemble import RandomForestClassifier\n",
    "from sklearn.neural_network import MLPClassifier\n",
    "from collections import OrderedDict\n",
    "\n",
    "# creo dizionario dei modelli di classificazione\n",
    "# Multinomial Naive Bayes non funziona perchè dopo la PCA i dati possono assumere valori negativi (in X hanno valore 0 o 1 a seconda che l'autore abbia o no partecipato al subreddit)\n",
    "#PERCHé assumono vaori anche negativi? perchè sono nuove features combo lineari degli 0 e 1?\n",
    "models = OrderedDict([\n",
    "          ('Knn 5', KNeighborsClassifier(4)),\n",
    "          ('Gaussian Naive Bayes', GaussianNB()),\n",
    "          ('Multinomial Naive Bayes', MultinomialNB()),\n",
    "          ('Logistic Regression', LogisticRegression(solver='liblinear')), #uso liblinear, mlto efficiente su large and sparse datasets\n",
    "          #('Linear SVM', SVC(kernel='linear', probability=True)),\n",
    "          #('Poly SVM', SVC(kernel='poly', degree=2, probability=True)),\n",
    "          #('RBF SVM', SVC(kernel='rbf', gamma=2, C=1, probability=True)),\n",
    "          ('Classification Tree', DecisionTreeClassifier(max_depth=5)),\n",
    "          ('Random Forest', RandomForestClassifier(max_depth=5, n_estimators=100)),\n",
    "          ('Multilayer Perceptron', MLPClassifier((4,3,2), activation='tanh',solver='adam', early_stopping=True, max_iter=10000,\n",
    "                                                  learning_rate_init=0.01, random_state=0))\n",
    "          ])"
   ]
  },
  {
   "cell_type": "code",
   "execution_count": 16,
   "metadata": {
    "scrolled": true
   },
   "outputs": [
    {
     "name": "stdout",
     "output_type": "stream",
     "text": [
      "Knn 5 0.746\n",
      "Gaussian Naive Bayes 0.65\n",
      "Multinomial Naive Bayes 0.871\n",
      "Logistic Regression 0.865\n",
      "Classification Tree 0.814\n",
      "Random Forest 0.74\n",
      "Multilayer Perceptron 0.869\n",
      "\n",
      "Best model is  Multinomial Naive Bayes with a score =  0.871\n"
     ]
    }
   ],
   "source": [
    "#fitto e calcolo lo score per ogni modello e stampo il migliore\n",
    "\n",
    "best_score=.0\n",
    "best_name=' '\n",
    "\n",
    "for name in models:\n",
    "    clf = models[name]\n",
    "    clf.fit(X_train, y_train)\n",
    "    score = clf.score(X_test, y_test)\n",
    "    if score>best_score:\n",
    "        best_score=score\n",
    "        best_name=name\n",
    "    print(name, score)\n",
    "    \n",
    "print('\\nBest model is ', best_name, 'with a score = ', best_score)"
   ]
  },
  {
   "cell_type": "markdown",
   "metadata": {},
   "source": [
    "# Logistic Regression - SUBREDDITS\n"
   ]
  },
  {
   "cell_type": "markdown",
   "metadata": {
    "scrolled": true
   },
   "source": [
    "Guardo quale sarebbe il C di regolarizzazione migliore: prima approx"
   ]
  },
  {
   "cell_type": "code",
   "execution_count": 17,
   "metadata": {},
   "outputs": [
    {
     "name": "stdout",
     "output_type": "stream",
     "text": [
      "[1.e-02 1.e-01 1.e+00 1.e+01 1.e+02]\n",
      "\n",
      "Best C: 1.0\n",
      "\n",
      "Best score: 0.865 \n",
      "\n"
     ]
    },
    {
     "data": {
      "text/plain": [
       "Text(0, 0.5, 'Score (accuracy)')"
      ]
     },
     "execution_count": 17,
     "metadata": {},
     "output_type": "execute_result"
    },
    {
     "data": {
      "image/png": "[encoded data removed]",
      "text/plain": [
       "<Figure size 432x288 with 1 Axes>"
      ]
     },
     "metadata": {
      "needs_background": "light"
     },
     "output_type": "display_data"
    }
   ],
   "source": [
    "creg=logspace(-2,2,5)\n",
    "print(creg)\n",
    "scores=[]\n",
    "\n",
    "for c in creg:\n",
    "    logreg=LogisticRegression(solver='liblinear', C=c)\n",
    "    logreg.fit(X_train, y_train)\n",
    "    scores.append(logreg.score(X_test, y_test))\n",
    "    \n",
    "bestcreg = creg[np.argmax(scores)]\n",
    "    \n",
    "print ('\\nBest C:', creg[np.argmax(scores)])\n",
    "print ('\\nBest score:', scores[np.argmax(scores)],'\\n')\n",
    "\n",
    "semilogx(creg, scores)\n",
    "plt.vlines(creg[np.argmax(scores)], 0, scores[np.argmax(scores)], linestyles='dashed')\n",
    "plt.xlabel('Cs')\n",
    "plt.ylabel('Score (accuracy)')"
   ]
  },
  {
   "cell_type": "markdown",
   "metadata": {},
   "source": [
    "Trovo dalla prima ricerca che C=1 è il migliore, raffino la ricerca"
   ]
  },
  {
   "cell_type": "code",
   "execution_count": 18,
   "metadata": {},
   "outputs": [
    {
     "name": "stdout",
     "output_type": "stream",
     "text": [
      "[0.5  0.75 1.   1.25 1.5 ]\n",
      "\n",
      "Best C: 0.75\n",
      "\n",
      "Best score: 0.865 \n",
      "\n"
     ]
    }
   ],
   "source": [
    "creg=linspace(bestcreg-0.5,bestcreg+0.5,5)\n",
    "print(creg)\n",
    "scores=[]\n",
    "\n",
    "for c in creg:\n",
    "    logreg=LogisticRegression(solver='liblinear', C=c)\n",
    "    logreg.fit(X_train, y_train)\n",
    "    scores.append(logreg.score(X_test, y_test))\n",
    "    \n",
    "bestcreg = creg[np.argmax(scores)]\n",
    "    \n",
    "print ('\\nBest C:', creg[np.argmax(scores)])\n",
    "print ('\\nBest score:', scores[np.argmax(scores)],'\\n')\n"
   ]
  },
  {
   "cell_type": "markdown",
   "metadata": {},
   "source": [
    "C=1.5, raffino"
   ]
  },
  {
   "cell_type": "code",
   "execution_count": 19,
   "metadata": {},
   "outputs": [
    {
     "name": "stdout",
     "output_type": "stream",
     "text": [
      "[0.5   0.625 0.75  0.875 1.   ]\n",
      "\n",
      "Best C: 0.875\n",
      "\n",
      "Best score: 0.866 \n",
      "\n"
     ]
    }
   ],
   "source": [
    "creg=linspace(bestcreg-0.25,bestcreg+0.25,5)\n",
    "print(creg)\n",
    "scores=[]\n",
    "\n",
    "for c in creg:\n",
    "    logreg=LogisticRegression(solver='liblinear', C=c)\n",
    "    logreg.fit(X_train, y_train)\n",
    "    scores.append(logreg.score(X_test, y_test))\n",
    "    \n",
    "bestcreg = creg[np.argmax(scores)]\n",
    "    \n",
    "print ('\\nBest C:', creg[np.argmax(scores)])\n",
    "print ('\\nBest score:', scores[np.argmax(scores)],'\\n')\n"
   ]
  },
  {
   "cell_type": "markdown",
   "metadata": {},
   "source": [
    "C=1.5, mi sto divertendo e funziona tutto: ne faccio un'altra"
   ]
  },
  {
   "cell_type": "code",
   "execution_count": 20,
   "metadata": {},
   "outputs": [
    {
     "name": "stdout",
     "output_type": "stream",
     "text": [
      "[0.75   0.8125 0.875  0.9375 1.    ]\n",
      "Scores:  [0.865, 0.866, 0.866, 0.865, 0.865]\n",
      "\n",
      "Best C: 0.8125\n",
      "\n",
      "Best score: 0.866 \n",
      "\n"
     ]
    }
   ],
   "source": [
    "creg=linspace(bestcreg-0.125,bestcreg+0.125,5)\n",
    "print(creg)\n",
    "scores=[]\n",
    "\n",
    "for c in creg:\n",
    "    logreg=LogisticRegression(solver='liblinear', C=c)\n",
    "    logreg.fit(X_train, y_train)\n",
    "    scores.append(logreg.score(X_test, y_test))\n",
    "\n",
    "print('Scores: ', scores)\n",
    "bestcreg = creg[np.argmax(scores)]\n",
    "\n",
    "print ('\\nBest C:', creg[np.argmax(scores)])\n",
    "print ('\\nBest score:', scores[np.argmax(scores)],'\\n')"
   ]
  },
  {
   "cell_type": "markdown",
   "metadata": {},
   "source": [
    "ok, basta che sto esagerando"
   ]
  },
  {
   "cell_type": "markdown",
   "metadata": {},
   "source": [
    "# Multilayer Perceptron - SUBREDDITS"
   ]
  },
  {
   "cell_type": "code",
   "execution_count": null,
   "metadata": {},
   "outputs": [],
   "source": []
  },
  {
   "cell_type": "code",
   "execution_count": 21,
   "metadata": {},
   "outputs": [
    {
     "name": "stdout",
     "output_type": "stream",
     "text": [
      "[1.e-04 1.e-03 1.e-02 1.e-01 1.e+00 1.e+01 1.e+02 1.e+03 1.e+04 1.e+05]\n",
      "\n",
      "Best Alpha: 0.0001\n",
      "\n",
      "Best score: 0.869 \n",
      "\n",
      "Scores:  [0.869, 0.866, 0.867, 0.869, 0.865, 0.737, 0.737, 0.737, 0.737, 0.737]\n"
     ]
    },
    {
     "data": {
      "text/plain": [
       "Text(0, 0.5, 'Score (accuracy)')"
      ]
     },
     "execution_count": 21,
     "metadata": {},
     "output_type": "execute_result"
    },
    {
     "data": {
      "image/png": "[encoded data removed]",
      "text/plain": [
       "<Figure size 432x288 with 1 Axes>"
      ]
     },
     "metadata": {
      "needs_background": "light"
     },
     "output_type": "display_data"
    }
   ],
   "source": [
    "alphas=logspace(-4,5,10)\n",
    "scores=[]\n",
    "print(alphas)\n",
    "\n",
    "for alpha in alphas:\n",
    "    mlp=MLPClassifier((4,3,2), activation='tanh',solver='adam', early_stopping=True, max_iter=10000,\n",
    "                                                  learning_rate_init=0.01, random_state=0, alpha=alpha).fit(X_train,y_train)\n",
    "    scores.append(mlp.score(X_test,y_test))\n",
    "    \n",
    "print ('\\nBest Alpha:', alphas[np.argmax(scores)])\n",
    "print ('\\nBest score:', scores[np.argmax(scores)],'\\n')\n",
    "\n",
    "bestalpha = alphas[np.argmax(scores)]\n",
    "print('Scores: ',scores)\n",
    "\n",
    "\n",
    "semilogx(alphas, scores)\n",
    "plt.vlines(alphas[np.argmax(scores)], 0, scores[np.argmax(scores)], linestyles='dashed')\n",
    "plt.xlabel('Alphas')\n",
    "plt.ylabel('Score (accuracy)')\n",
    "    "
   ]
  },
  {
   "cell_type": "markdown",
   "metadata": {},
   "source": [
    "Raffino la ricerca su alpha"
   ]
  },
  {
   "cell_type": "code",
   "execution_count": 22,
   "metadata": {},
   "outputs": [
    {
     "name": "stdout",
     "output_type": "stream",
     "text": [
      "[1.00000000e-04 2.78255940e-04 7.74263683e-04 2.15443469e-03\n",
      " 5.99484250e-03 1.66810054e-02 4.64158883e-02 1.29154967e-01\n",
      " 3.59381366e-01 1.00000000e+00]\n",
      "\n",
      "Best Alpha: 0.046415888336127774\n",
      "\n",
      "Best score: 0.871 \n",
      "\n",
      "Scores:  [0.869, 0.866, 0.866, 0.866, 0.866, 0.868, 0.871, 0.87, 0.858, 0.865]\n"
     ]
    },
    {
     "data": {
      "text/plain": [
       "Text(0, 0.5, 'Score (accuracy)')"
      ]
     },
     "execution_count": 22,
     "metadata": {},
     "output_type": "execute_result"
    },
    {
     "data": {
      "image/png": "[encoded data removed]",
      "text/plain": [
       "<Figure size 432x288 with 1 Axes>"
      ]
     },
     "metadata": {
      "needs_background": "light"
     },
     "output_type": "display_data"
    }
   ],
   "source": [
    "alphas=logspace(-4,0,10)\n",
    "scores=[]\n",
    "print(alphas)\n",
    "\n",
    "for alpha in alphas:\n",
    "    mlp=MLPClassifier((4,3,2), activation='tanh',solver='adam', early_stopping=True, max_iter=10000,\n",
    "                                                  learning_rate_init=0.01, random_state=0, alpha=alpha).fit(X_train,y_train)\n",
    "    scores.append(mlp.score(X_test,y_test))\n",
    "    \n",
    "print ('\\nBest Alpha:', alphas[np.argmax(scores)])\n",
    "print ('\\nBest score:', scores[np.argmax(scores)],'\\n')\n",
    "\n",
    "bestalpha = alphas[np.argmax(scores)]\n",
    "print('Scores: ', scores)\n",
    "\n",
    "semilogx(alphas, scores)\n",
    "plt.vlines(alphas[np.argmax(scores)], 0, scores[np.argmax(scores)], linestyles='dashed')\n",
    "plt.xlabel('Alphas')\n",
    "plt.ylabel('Score (accuracy)')"
   ]
  },
  {
   "cell_type": "markdown",
   "metadata": {},
   "source": [
    "Provo ancora"
   ]
  },
  {
   "cell_type": "code",
   "execution_count": 23,
   "metadata": {},
   "outputs": [
    {
     "data": {
      "text/plain": [
       "-1.3333333333333335"
      ]
     },
     "execution_count": 23,
     "metadata": {},
     "output_type": "execute_result"
    }
   ],
   "source": [
    "a=log10(bestalpha)\n",
    "a"
   ]
  },
  {
   "cell_type": "code",
   "execution_count": 24,
   "metadata": {},
   "outputs": [
    {
     "name": "stdout",
     "output_type": "stream",
     "text": [
      "[0.01467799 0.01895736 0.02448437 0.03162278 0.04084239 0.05274997\n",
      " 0.06812921 0.08799225 0.11364637 0.14677993]\n",
      "\n",
      "Best Alpha: 0.05274997063702617\n",
      "\n",
      "Best score: 0.871 \n",
      "\n"
     ]
    },
    {
     "data": {
      "text/plain": [
       "Text(0, 0.5, 'Score (accuracy)')"
      ]
     },
     "execution_count": 24,
     "metadata": {},
     "output_type": "execute_result"
    },
    {
     "data": {
      "image/png": "[encoded data removed]",
      "text/plain": [
       "<Figure size 432x288 with 1 Axes>"
      ]
     },
     "metadata": {
      "needs_background": "light"
     },
     "output_type": "display_data"
    }
   ],
   "source": [
    "\n",
    "alphas=logspace(a-0.5,a+0.5,10)\n",
    "scores=[]\n",
    "print(alphas)\n",
    "\n",
    "for alpha in alphas:\n",
    "    mlp=MLPClassifier((4,3,2), activation='tanh',solver='adam', early_stopping=True, max_iter=10000,\n",
    "                                                  learning_rate_init=0.01, random_state=0, alpha=alpha).fit(X_train,y_train)\n",
    "    scores.append(mlp.score(X_test,y_test))\n",
    "    \n",
    "print ('\\nBest Alpha:', alphas[np.argmax(scores)])\n",
    "print ('\\nBest score:', scores[np.argmax(scores)],'\\n')\n",
    "\n",
    "bestalpha = alphas[np.argmax(scores)]\n",
    "\n",
    "semilogx(alphas, scores)\n",
    "plt.vlines(alphas[np.argmax(scores)], 0, scores[np.argmax(scores)], linestyles='dashed')\n",
    "plt.xlabel('Alphas')\n",
    "plt.ylabel('Score (accuracy)')\n",
    "\n"
   ]
  },
  {
   "cell_type": "markdown",
   "metadata": {},
   "source": [
    "Tengo questo"
   ]
  },
  {
   "cell_type": "markdown",
   "metadata": {},
   "source": [
    "# MULTINOMIAL NAIVE BAYES - SUBREDDITS"
   ]
  },
  {
   "cell_type": "code",
   "execution_count": 25,
   "metadata": {},
   "outputs": [
    {
     "name": "stdout",
     "output_type": "stream",
     "text": [
      "[1.e-03 1.e-02 1.e-01 1.e+00 1.e+01]\n",
      "\n",
      "Best Alfa: 1.0\n",
      "\n",
      "Best score: 0.871 \n",
      "\n",
      "Scores:  [0.854, 0.86, 0.865, 0.871, 0.806]\n"
     ]
    },
    {
     "data": {
      "text/plain": [
       "Text(0, 0.5, 'Score (accuracy)')"
      ]
     },
     "execution_count": 25,
     "metadata": {},
     "output_type": "execute_result"
    },
    {
     "data": {
      "image/png": "[encoded data removed]",
      "text/plain": [
       "<Figure size 432x288 with 1 Axes>"
      ]
     },
     "metadata": {
      "needs_background": "light"
     },
     "output_type": "display_data"
    }
   ],
   "source": [
    "alfas=logspace(-3,1,5)\n",
    "\n",
    "scores=[]\n",
    "print(alfas)\n",
    "\n",
    "for alfa in alfas:\n",
    "    mnb=MultinomialNB(alpha=alfa).fit(X_train,y_train)\n",
    "    scores.append(mnb.score(X_test,y_test))\n",
    "    \n",
    "print ('\\nBest Alfa:', alfas[np.argmax(scores)])\n",
    "print ('\\nBest score:', scores[np.argmax(scores)],'\\n')\n",
    "\n",
    "bestalfa = alfas[np.argmax(scores)]\n",
    "print('Scores: ', scores)\n",
    "\n",
    "semilogx(alfas, scores)\n",
    "plt.vlines(alfas[np.argmax(scores)], 0, scores[np.argmax(scores)], linestyles='dashed')\n",
    "plt.xlabel('Alfas')\n",
    "plt.ylabel('Score (accuracy)')\n",
    "    "
   ]
  },
  {
   "cell_type": "markdown",
   "metadata": {},
   "source": [
    "Riprovo"
   ]
  },
  {
   "cell_type": "code",
   "execution_count": 26,
   "metadata": {},
   "outputs": [
    {
     "name": "stdout",
     "output_type": "stream",
     "text": [
      "[ 0.1         0.16681005  0.27825594  0.46415888  0.77426368  1.29154967\n",
      "  2.15443469  3.59381366  5.9948425  10.        ]\n",
      "\n",
      "Best Alfa: 0.774263682681127\n",
      "\n",
      "Best score: 0.874 \n",
      "\n",
      "Scores:  [0.865, 0.867, 0.872, 0.872, 0.874, 0.868, 0.862, 0.851, 0.836, 0.806]\n"
     ]
    },
    {
     "data": {
      "text/plain": [
       "Text(0, 0.5, 'Score (accuracy)')"
      ]
     },
     "execution_count": 26,
     "metadata": {},
     "output_type": "execute_result"
    },
    {
     "data": {
      "image/png": "[encoded data removed]",
      "text/plain": [
       "<Figure size 432x288 with 1 Axes>"
      ]
     },
     "metadata": {
      "needs_background": "light"
     },
     "output_type": "display_data"
    }
   ],
   "source": [
    "alfas=logspace(-1,1,10)\n",
    "\n",
    "scores=[]\n",
    "print(alfas)\n",
    "\n",
    "for alfa in alfas:\n",
    "    mnb=MultinomialNB(alpha=alfa).fit(X_train,y_train)\n",
    "    scores.append(mnb.score(X_test,y_test))\n",
    "    \n",
    "print ('\\nBest Alfa:', alfas[np.argmax(scores)])\n",
    "print ('\\nBest score:', scores[np.argmax(scores)],'\\n')\n",
    "\n",
    "bestalfa = alfas[np.argmax(scores)]\n",
    "print('Scores: ', scores)\n",
    "\n",
    "semilogx(alfas, scores)\n",
    "plt.vlines(alfas[np.argmax(scores)], 0, scores[np.argmax(scores)], linestyles='dashed')\n",
    "plt.xlabel('Alfas')\n",
    "plt.ylabel('Score (accuracy)')"
   ]
  },
  {
   "cell_type": "markdown",
   "metadata": {},
   "source": [
    "Raffino"
   ]
  },
  {
   "cell_type": "code",
   "execution_count": 27,
   "metadata": {},
   "outputs": [
    {
     "name": "stdout",
     "output_type": "stream",
     "text": [
      "[0.1        0.12915497 0.16681005 0.21544347 0.27825594 0.35938137\n",
      " 0.46415888 0.59948425 0.77426368 1.        ]\n",
      "\n",
      "Best Alfa: 0.774263682681127\n",
      "\n",
      "Best score: 0.874 \n",
      "\n",
      "Scores:  [0.865, 0.867, 0.867, 0.87, 0.872, 0.873, 0.872, 0.872, 0.874, 0.871]\n"
     ]
    },
    {
     "data": {
      "text/plain": [
       "Text(0, 0.5, 'Score (accuracy)')"
      ]
     },
     "execution_count": 27,
     "metadata": {},
     "output_type": "execute_result"
    },
    {
     "data": {
      "image/png": "[encoded data removed]",
      "text/plain": [
       "<Figure size 432x288 with 1 Axes>"
      ]
     },
     "metadata": {
      "needs_background": "light"
     },
     "output_type": "display_data"
    }
   ],
   "source": [
    "alfas=logspace(-1,0,10)\n",
    "\n",
    "scores=[]\n",
    "print(alfas)\n",
    "\n",
    "for alfa in alfas:\n",
    "    mnb=MultinomialNB(alpha=alfa).fit(X_train,y_train)\n",
    "    scores.append(mnb.score(X_test,y_test))\n",
    "    \n",
    "print ('\\nBest Alfa:', alfas[np.argmax(scores)])\n",
    "print ('\\nBest score:', scores[np.argmax(scores)],'\\n')\n",
    "\n",
    "bestalfa = alfas[np.argmax(scores)]\n",
    "print('Scores: ', scores)\n",
    "\n",
    "semilogx(alfas, scores)\n",
    "plt.vlines(alfas[np.argmax(scores)], 0, scores[np.argmax(scores)], linestyles='dashed')\n",
    "plt.xlabel('Alfas')\n",
    "plt.ylabel('Score (accuracy)')\n"
   ]
  },
  {
   "cell_type": "markdown",
   "metadata": {},
   "source": [
    "perfetto, così mi piace"
   ]
  },
  {
   "cell_type": "markdown",
   "metadata": {},
   "source": [
    "## **CALCOLO LE PREDICTED PROBA DEI 3 MODELLI PER I SUBREDDITS**"
   ]
  },
  {
   "cell_type": "code",
   "execution_count": 28,
   "metadata": {},
   "outputs": [],
   "source": [
    "#Uso tutto il dataset X1 per allenare i migliori modelli trovati\n",
    "\n",
    "LogReg=LogisticRegression(solver='liblinear', C=bestcreg).fit(X1,y)\n",
    "\n",
    "MLP=MLPClassifier((4,3,2), activation='tanh',solver='adam', early_stopping=True, max_iter=10000,\n",
    "                                                  learning_rate_init=0.01, random_state=0, alpha=bestalpha).fit(X1,y)\n",
    "\n",
    "MNB=MultinomialNB(alpha=bestalfa).fit(X1,y)\n",
    "\n",
    "#prendo solo la seconda colonna, ovvero la probabilità che gender=1 (donna)\n",
    "proba1=LogReg.predict_proba(X1)[:,1]\n",
    "proba2=MLP.predict_proba(X1)[:,1]\n",
    "proba3=MNB.predict_proba(X1)[:,1]"
   ]
  },
  {
   "cell_type": "code",
   "execution_count": 29,
   "metadata": {},
   "outputs": [
    {
     "data": {
      "text/plain": [
       "(5000, 1)"
      ]
     },
     "execution_count": 29,
     "metadata": {},
     "output_type": "execute_result"
    }
   ],
   "source": [
    "Proba1=reshape(proba1,(5000,1))\n",
    "Proba2=reshape(proba2,(5000,1))\n",
    "Proba3=reshape(proba3,(5000,1))\n",
    "shape(Proba1)"
   ]
  },
  {
   "cell_type": "code",
   "execution_count": 30,
   "metadata": {},
   "outputs": [
    {
     "data": {
      "text/plain": [
       "(5000, 3)"
      ]
     },
     "execution_count": 30,
     "metadata": {},
     "output_type": "execute_result"
    }
   ],
   "source": [
    "PTOT=hstack([Proba1,Proba2,Proba3])\n",
    "shape(PTOT)"
   ]
  },
  {
   "cell_type": "markdown",
   "metadata": {},
   "source": [
    "## Model Selection for final merging"
   ]
  },
  {
   "cell_type": "code",
   "execution_count": 31,
   "metadata": {},
   "outputs": [],
   "source": [
    "X_train, X_test, y_train, y_test = train_test_split(PTOT, y, test_size=.2, random_state = 32)"
   ]
  },
  {
   "cell_type": "code",
   "execution_count": 32,
   "metadata": {},
   "outputs": [
    {
     "name": "stdout",
     "output_type": "stream",
     "text": [
      "Knn 5 0.915\n",
      "Gaussian Naive Bayes 0.906\n",
      "Multinomial Naive Bayes 0.737\n",
      "Logistic Regression 0.925\n",
      "Classification Tree 0.917\n",
      "Random Forest 0.918\n",
      "Multilayer Perceptron 0.92\n",
      "\n",
      "Best model is  Logistic Regression with a score =  0.925\n"
     ]
    }
   ],
   "source": [
    "best_score=.0\n",
    "best_name=' '\n",
    "\n",
    "for name in models:\n",
    "    clf = models[name]\n",
    "    clf.fit(X_train, y_train)\n",
    "    score = clf.score(X_test, y_test)\n",
    "    if score>best_score:\n",
    "        best_score=score\n",
    "        best_name=name\n",
    "    print(name, score)\n",
    "    \n",
    "print('\\nBest model is ', best_name, 'with a score = ', best_score)"
   ]
  },
  {
   "cell_type": "markdown",
   "metadata": {},
   "source": [
    "## LOGISTIC REGRESSION ON SUBREDDITS DATA FROM MODELS"
   ]
  },
  {
   "cell_type": "code",
   "execution_count": 33,
   "metadata": {},
   "outputs": [
    {
     "name": "stdout",
     "output_type": "stream",
     "text": [
      "Score =  0.832  C=  0.001\n",
      "Score =  0.915  C=  0.01\n",
      "Score =  0.919  C=  0.1\n",
      "Score =  0.925  C=  1.0\n",
      "Score =  0.925  C=  10.0\n",
      "Score =  0.925  C=  100.0\n",
      "Score =  0.925  C=  1000.0\n",
      "Score =  0.925  C=  10000.0\n",
      "Score =  0.925  C=  100000.0\n",
      "Score =  0.925  C=  1000000.0\n"
     ]
    }
   ],
   "source": [
    "Cs=logspace(-3,6,10)\n",
    "\n",
    "for c in Cs:\n",
    "    LRTOT=LogisticRegression(solver='liblinear', C=c).fit(X_train,y_train)\n",
    "    score=LRTOT.score(X_test, y_test)\n",
    "    print('Score = ', score,' C= ', c)"
   ]
  },
  {
   "cell_type": "markdown",
   "metadata": {},
   "source": [
    "Scelgo C=1 (la regolarizzazione più forte che mi massimizza lo score) e alleno logreg ottimizzata su tutti i dati"
   ]
  },
  {
   "cell_type": "code",
   "execution_count": 40,
   "metadata": {},
   "outputs": [
    {
     "data": {
      "text/plain": [
       "array([0.05860933, 0.94318996, 0.02780333, ..., 0.01955518, 0.30356689,\n",
       "       0.01371703])"
      ]
     },
     "execution_count": 40,
     "metadata": {},
     "output_type": "execute_result"
    }
   ],
   "source": [
    "LRFINALE=LogisticRegression(solver='liblinear', C=1).fit(PTOT,y)\n",
    "predictions_output = LRFINALE.predict_proba(PTOT)[:,1]\n",
    "predictions_output\n"
   ]
  },
  {
   "cell_type": "markdown",
   "metadata": {},
   "source": [
    "# Export train data to csv\n",
    "**Esporto le predicted proba del modello finale sul train set da usare in MERGINGDATA.ipynb**"
   ]
  },
  {
   "cell_type": "code",
   "execution_count": 36,
   "metadata": {},
   "outputs": [
    {
     "data": {
      "text/html": [
       "<div>\n",
       "<style scoped>\n",
       "    .dataframe tbody tr th:only-of-type {\n",
       "        vertical-align: middle;\n",
       "    }\n",
       "\n",
       "    .dataframe tbody tr th {\n",
       "        vertical-align: top;\n",
       "    }\n",
       "\n",
       "    .dataframe thead th {\n",
       "        text-align: right;\n",
       "    }\n",
       "</style>\n",
       "<table border=\"1\" class=\"dataframe\">\n",
       "  <thead>\n",
       "    <tr style=\"text-align: right;\">\n",
       "      <th></th>\n",
       "      <th>author</th>\n",
       "      <th>TFIDF</th>\n",
       "    </tr>\n",
       "  </thead>\n",
       "  <tbody>\n",
       "    <tr>\n",
       "      <th>4995</th>\n",
       "      <td>BrennanDobak</td>\n",
       "      <td>0.015008</td>\n",
       "    </tr>\n",
       "    <tr>\n",
       "      <th>4996</th>\n",
       "      <td>J_Mallory</td>\n",
       "      <td>0.996071</td>\n",
       "    </tr>\n",
       "    <tr>\n",
       "      <th>4997</th>\n",
       "      <td>MasonJarTeaDrinker</td>\n",
       "      <td>0.019555</td>\n",
       "    </tr>\n",
       "    <tr>\n",
       "      <th>4998</th>\n",
       "      <td>Thegirlonfire5</td>\n",
       "      <td>0.303567</td>\n",
       "    </tr>\n",
       "    <tr>\n",
       "      <th>4999</th>\n",
       "      <td>emptyRR</td>\n",
       "      <td>0.013717</td>\n",
       "    </tr>\n",
       "  </tbody>\n",
       "</table>\n",
       "</div>"
      ],
      "text/plain": [
       "                  author     TFIDF\n",
       "4995        BrennanDobak  0.015008\n",
       "4996           J_Mallory  0.996071\n",
       "4997  MasonJarTeaDrinker  0.019555\n",
       "4998      Thegirlonfire5  0.303567\n",
       "4999             emptyRR  0.013717"
      ]
     },
     "execution_count": 36,
     "metadata": {},
     "output_type": "execute_result"
    }
   ],
   "source": [
    "SBRDDTS_train_output = pd.DataFrame({\"author\":train_data.author.unique(), \"SBRDDTS\":predictions_output})\n",
    "#SBRDDTS_train_output.head()\n",
    "SBRDDTS_train_output.tail()"
   ]
  },
  {
   "cell_type": "code",
   "execution_count": 37,
   "metadata": {},
   "outputs": [],
   "source": [
    "SBRDDTS_train_output.to_csv(\"SBRDDTS_train_output.csv\", index=False)"
   ]
  },
  {
   "cell_type": "markdown",
   "metadata": {},
   "source": [
    "# Prepare the solution"
   ]
  },
  {
   "cell_type": "markdown",
   "metadata": {},
   "source": [
    "## Load Data"
   ]
  },
  {
   "cell_type": "code",
   "execution_count": 35,
   "metadata": {},
   "outputs": [],
   "source": [
    "test_data = pd.read_csv(\"/home/gdeandrea/Scrivania/UNI/Data Mining/ESAME2020/Kaggle data/test_data.csv\", encoding=\"utf8\")"
   ]
  },
  {
   "cell_type": "code",
   "execution_count": 36,
   "metadata": {},
   "outputs": [
    {
     "data": {
      "text/html": [
       "<div>\n",
       "<style scoped>\n",
       "    .dataframe tbody tr th:only-of-type {\n",
       "        vertical-align: middle;\n",
       "    }\n",
       "\n",
       "    .dataframe tbody tr th {\n",
       "        vertical-align: top;\n",
       "    }\n",
       "\n",
       "    .dataframe thead th {\n",
       "        text-align: right;\n",
       "    }\n",
       "</style>\n",
       "<table border=\"1\" class=\"dataframe\">\n",
       "  <thead>\n",
       "    <tr style=\"text-align: right;\">\n",
       "      <th></th>\n",
       "      <th>author</th>\n",
       "      <th>subreddit</th>\n",
       "      <th>created_utc</th>\n",
       "      <th>body</th>\n",
       "    </tr>\n",
       "  </thead>\n",
       "  <tbody>\n",
       "    <tr>\n",
       "      <th>0</th>\n",
       "      <td>ejchristian86</td>\n",
       "      <td>TwoXChromosomes</td>\n",
       "      <td>1.388534e+09</td>\n",
       "      <td>I hadn't ever heard of them before joining thi...</td>\n",
       "    </tr>\n",
       "    <tr>\n",
       "      <th>1</th>\n",
       "      <td>ZenDragon</td>\n",
       "      <td>gaming</td>\n",
       "      <td>1.388534e+09</td>\n",
       "      <td>At 7680 by 4320 with 64x AA, right?</td>\n",
       "    </tr>\n",
       "    <tr>\n",
       "      <th>2</th>\n",
       "      <td>savoytruffle</td>\n",
       "      <td>AskReddit</td>\n",
       "      <td>1.388534e+09</td>\n",
       "      <td>bite me</td>\n",
       "    </tr>\n",
       "    <tr>\n",
       "      <th>3</th>\n",
       "      <td>hentercenter</td>\n",
       "      <td>stlouisblues</td>\n",
       "      <td>1.388534e+09</td>\n",
       "      <td>Damn that was a good penalty :(</td>\n",
       "    </tr>\n",
       "    <tr>\n",
       "      <th>4</th>\n",
       "      <td>rick-o-suave</td>\n",
       "      <td>army</td>\n",
       "      <td>1.388534e+09</td>\n",
       "      <td>I swore into DEP on 6-OCT and I left 5-NOV und...</td>\n",
       "    </tr>\n",
       "  </tbody>\n",
       "</table>\n",
       "</div>"
      ],
      "text/plain": [
       "          author        subreddit   created_utc  \\\n",
       "0  ejchristian86  TwoXChromosomes  1.388534e+09   \n",
       "1      ZenDragon           gaming  1.388534e+09   \n",
       "2   savoytruffle        AskReddit  1.388534e+09   \n",
       "3   hentercenter     stlouisblues  1.388534e+09   \n",
       "4   rick-o-suave             army  1.388534e+09   \n",
       "\n",
       "                                                body  \n",
       "0  I hadn't ever heard of them before joining thi...  \n",
       "1                At 7680 by 4320 with 64x AA, right?  \n",
       "2                                            bite me  \n",
       "3                    Damn that was a good penalty :(  \n",
       "4  I swore into DEP on 6-OCT and I left 5-NOV und...  "
      ]
     },
     "execution_count": 36,
     "metadata": {},
     "output_type": "execute_result"
    }
   ],
   "source": [
    "test_data.head()"
   ]
  },
  {
   "cell_type": "markdown",
   "metadata": {},
   "source": [
    "## Features Extraction"
   ]
  },
  {
   "cell_type": "code",
   "execution_count": 37,
   "metadata": {},
   "outputs": [],
   "source": [
    "features_dict = {}\n",
    "\n",
    "for author, group in test_data.groupby('author'):\n",
    "    features_dict[author] = extract_features(group)"
   ]
  },
  {
   "cell_type": "code",
   "execution_count": 38,
   "metadata": {},
   "outputs": [],
   "source": [
    "X_test = sparse.vstack([features_dict[author] for author in test_data.author.unique()])"
   ]
  },
  {
   "cell_type": "code",
   "execution_count": 39,
   "metadata": {},
   "outputs": [
    {
     "data": {
      "text/plain": [
       "numpy.ndarray"
      ]
     },
     "execution_count": 39,
     "metadata": {},
     "output_type": "execute_result"
    }
   ],
   "source": [
    "type(X_test)"
   ]
  },
  {
   "cell_type": "code",
   "execution_count": 39,
   "metadata": {},
   "outputs": [],
   "source": [
    "Xtest=X_test.toarray()"
   ]
  },
  {
   "cell_type": "code",
   "execution_count": 40,
   "metadata": {},
   "outputs": [
    {
     "data": {
      "text/plain": [
       "(15000, 3468)"
      ]
     },
     "execution_count": 40,
     "metadata": {},
     "output_type": "execute_result"
    }
   ],
   "source": [
    "Xtest.shape"
   ]
  },
  {
   "cell_type": "markdown",
   "metadata": {},
   "source": [
    "**Calcolo i pesi secondo i tre modelli ottimizzati prima**"
   ]
  },
  {
   "cell_type": "code",
   "execution_count": 41,
   "metadata": {},
   "outputs": [
    {
     "data": {
      "text/plain": [
       "(15000, 1)"
      ]
     },
     "execution_count": 41,
     "metadata": {},
     "output_type": "execute_result"
    }
   ],
   "source": [
    "prob1=LogReg.predict_proba(Xtest)[:,1]\n",
    "prob2=MLP.predict_proba(Xtest)[:,1]\n",
    "prob3=MNB.predict_proba(Xtest)[:,1]\n",
    "\n",
    "Prob1=reshape(prob1,(15000,1))\n",
    "Prob2=reshape(prob2,(15000,1))\n",
    "Prob3=reshape(prob3,(15000,1))\n",
    "shape(Prob1)"
   ]
  },
  {
   "cell_type": "code",
   "execution_count": 42,
   "metadata": {},
   "outputs": [
    {
     "data": {
      "text/plain": [
       "(15000, 3)"
      ]
     },
     "execution_count": 42,
     "metadata": {},
     "output_type": "execute_result"
    }
   ],
   "source": [
    "XTOT=hstack([Prob1,Prob2,Prob3])\n",
    "shape(XTOT)"
   ]
  },
  {
   "cell_type": "markdown",
   "metadata": {},
   "source": [
    "**Uso dati mangiati dai tre esperimenti per fittare con logistic regression ottimizzata prima e ottenere le mie predizioni sul test set**"
   ]
  },
  {
   "cell_type": "code",
   "execution_count": 43,
   "metadata": {},
   "outputs": [],
   "source": [
    "y_pred=LRFINALE.predict_proba(XTOT)[:,1]"
   ]
  },
  {
   "cell_type": "code",
   "execution_count": 44,
   "metadata": {},
   "outputs": [
    {
     "data": {
      "text/html": [
       "<div>\n",
       "<style scoped>\n",
       "    .dataframe tbody tr th:only-of-type {\n",
       "        vertical-align: middle;\n",
       "    }\n",
       "\n",
       "    .dataframe tbody tr th {\n",
       "        vertical-align: top;\n",
       "    }\n",
       "\n",
       "    .dataframe thead th {\n",
       "        text-align: right;\n",
       "    }\n",
       "</style>\n",
       "<table border=\"1\" class=\"dataframe\">\n",
       "  <thead>\n",
       "    <tr style=\"text-align: right;\">\n",
       "      <th></th>\n",
       "      <th>author</th>\n",
       "      <th>gender</th>\n",
       "    </tr>\n",
       "  </thead>\n",
       "  <tbody>\n",
       "    <tr>\n",
       "      <th>0</th>\n",
       "      <td>ejchristian86</td>\n",
       "      <td>0.996875</td>\n",
       "    </tr>\n",
       "    <tr>\n",
       "      <th>1</th>\n",
       "      <td>ZenDragon</td>\n",
       "      <td>0.014150</td>\n",
       "    </tr>\n",
       "    <tr>\n",
       "      <th>2</th>\n",
       "      <td>savoytruffle</td>\n",
       "      <td>0.016166</td>\n",
       "    </tr>\n",
       "    <tr>\n",
       "      <th>3</th>\n",
       "      <td>hentercenter</td>\n",
       "      <td>0.023449</td>\n",
       "    </tr>\n",
       "    <tr>\n",
       "      <th>4</th>\n",
       "      <td>rick-o-suave</td>\n",
       "      <td>0.195290</td>\n",
       "    </tr>\n",
       "  </tbody>\n",
       "</table>\n",
       "</div>"
      ],
      "text/plain": [
       "          author    gender\n",
       "0  ejchristian86  0.996875\n",
       "1      ZenDragon  0.014150\n",
       "2   savoytruffle  0.016166\n",
       "3   hentercenter  0.023449\n",
       "4   rick-o-suave  0.195290"
      ]
     },
     "execution_count": 44,
     "metadata": {},
     "output_type": "execute_result"
    }
   ],
   "source": [
    "solution = pd.DataFrame({\"author\":test_data.author.unique(), \"gender\":y_pred})\n",
    "solution.head()"
   ]
  },
  {
   "cell_type": "code",
   "execution_count": 45,
   "metadata": {},
   "outputs": [],
   "source": [
    "solution.to_csv(\"solutionSBRDDTS.csv\", index=False)"
   ]
  },
  {
   "cell_type": "code",
   "execution_count": 46,
   "metadata": {},
   "outputs": [
    {
     "name": "stdout",
     "output_type": "stream",
     "text": [
      "author,gender\n",
      "ejchristian86,0.9968754552048945\n",
      "ZenDragon,0.014149796167168176\n",
      "savoytruffle,0.01616551798639555\n",
      "hentercenter,0.023448505273895227\n",
      "rick-o-suave,0.19528950900299286\n",
      "olivermihoff,0.018600436385778924\n",
      "Cleriesse,0.8910134892625196\n",
      "murderer_of_death,0.013754724251055768\n",
      "SpiralSoul,0.014142551441020595\n"
     ]
    }
   ],
   "source": [
    "%%sh\n",
    "head solution.csv"
   ]
  },
  {
   "cell_type": "code",
   "execution_count": null,
   "metadata": {},
   "outputs": [],
   "source": []
  }
 ],
 "metadata": {
  "kernelspec": {
   "display_name": "Python 3",
   "language": "python",
   "name": "python3"
  },
  "language_info": {
   "codemirror_mode": {
    "name": "ipython",
    "version": 3
   },
   "file_extension": ".py",
   "mimetype": "text/x-python",
   "name": "python",
   "nbconvert_exporter": "python",
   "pygments_lexer": "ipython3",
   "version": "3.7.3"
  }
 },
 "nbformat": 4,
 "nbformat_minor": 1
}
