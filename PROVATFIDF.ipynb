{
 "cells": [
  {
   "cell_type": "code",
   "execution_count": 2,
   "metadata": {},
   "outputs": [
    {
     "name": "stdout",
     "output_type": "stream",
     "text": [
      "Populating the interactive namespace from numpy and matplotlib\n"
     ]
    }
   ],
   "source": [
    "%pylab inline\n",
    "import pandas as pd"
   ]
  },
  {
   "cell_type": "markdown",
   "metadata": {},
   "source": [
    "# Load the train data\n",
    "cambia e fai load su cartella 2020\n"
   ]
  },
  {
   "cell_type": "code",
   "execution_count": 3,
   "metadata": {
    "scrolled": true
   },
   "outputs": [],
   "source": [
    "train_data = pd.read_csv('/home/gdeandrea/Scrivania/UNI/Data Mining/ESAME2020/Kaggle data/train_data.csv', encoding=\"utf8\")"
   ]
  },
  {
   "cell_type": "code",
   "execution_count": 4,
   "metadata": {},
   "outputs": [
    {
     "data": {
      "text/html": [
       "<div>\n",
       "<style scoped>\n",
       "    .dataframe tbody tr th:only-of-type {\n",
       "        vertical-align: middle;\n",
       "    }\n",
       "\n",
       "    .dataframe tbody tr th {\n",
       "        vertical-align: top;\n",
       "    }\n",
       "\n",
       "    .dataframe thead th {\n",
       "        text-align: right;\n",
       "    }\n",
       "</style>\n",
       "<table border=\"1\" class=\"dataframe\">\n",
       "  <thead>\n",
       "    <tr style=\"text-align: right;\">\n",
       "      <th></th>\n",
       "      <th>author</th>\n",
       "      <th>subreddit</th>\n",
       "      <th>created_utc</th>\n",
       "      <th>body</th>\n",
       "    </tr>\n",
       "  </thead>\n",
       "  <tbody>\n",
       "    <tr>\n",
       "      <th>0</th>\n",
       "      <td>Shamus_Aran</td>\n",
       "      <td>mylittlepony</td>\n",
       "      <td>1.388534e+09</td>\n",
       "      <td>I don't think we'd get nearly as much fanficti...</td>\n",
       "    </tr>\n",
       "    <tr>\n",
       "      <th>1</th>\n",
       "      <td>Riddance</td>\n",
       "      <td>sex</td>\n",
       "      <td>1.388534e+09</td>\n",
       "      <td>Thanks. I made it up, that's how I got over my...</td>\n",
       "    </tr>\n",
       "    <tr>\n",
       "      <th>2</th>\n",
       "      <td>Secret_Wizard</td>\n",
       "      <td>DragonsDogma</td>\n",
       "      <td>1.388534e+09</td>\n",
       "      <td>Are you sure you aren't confusing Cyclops (the...</td>\n",
       "    </tr>\n",
       "    <tr>\n",
       "      <th>3</th>\n",
       "      <td>Penultimatum</td>\n",
       "      <td>malefashionadvice</td>\n",
       "      <td>1.388534e+09</td>\n",
       "      <td>dont do this to me bro</td>\n",
       "    </tr>\n",
       "    <tr>\n",
       "      <th>4</th>\n",
       "      <td>7-SE7EN-7</td>\n",
       "      <td>todayilearned</td>\n",
       "      <td>1.388534e+09</td>\n",
       "      <td>That's what we do when we can't find a mate</td>\n",
       "    </tr>\n",
       "  </tbody>\n",
       "</table>\n",
       "</div>"
      ],
      "text/plain": [
       "          author          subreddit   created_utc  \\\n",
       "0    Shamus_Aran       mylittlepony  1.388534e+09   \n",
       "1       Riddance                sex  1.388534e+09   \n",
       "2  Secret_Wizard       DragonsDogma  1.388534e+09   \n",
       "3   Penultimatum  malefashionadvice  1.388534e+09   \n",
       "4      7-SE7EN-7      todayilearned  1.388534e+09   \n",
       "\n",
       "                                                body  \n",
       "0  I don't think we'd get nearly as much fanficti...  \n",
       "1  Thanks. I made it up, that's how I got over my...  \n",
       "2  Are you sure you aren't confusing Cyclops (the...  \n",
       "3                             dont do this to me bro  \n",
       "4        That's what we do when we can't find a mate  "
      ]
     },
     "execution_count": 4,
     "metadata": {},
     "output_type": "execute_result"
    }
   ],
   "source": [
    "train_data.head()\n",
    "#shape(train_data)"
   ]
  },
  {
   "cell_type": "code",
   "execution_count": 5,
   "metadata": {},
   "outputs": [
    {
     "data": {
      "text/plain": [
       "(5000,)"
      ]
     },
     "execution_count": 5,
     "metadata": {},
     "output_type": "execute_result"
    }
   ],
   "source": [
    "train_data.author.unique().shape\n",
    "#train_data.subreddit.unique().shape\n"
   ]
  },
  {
   "cell_type": "markdown",
   "metadata": {},
   "source": [
    "di nuovo come sopra"
   ]
  },
  {
   "cell_type": "code",
   "execution_count": 6,
   "metadata": {},
   "outputs": [],
   "source": [
    "target = pd.read_csv('/home/gdeandrea/Scrivania/UNI/Data Mining/ESAME2020/Kaggle data/train_target.csv')"
   ]
  },
  {
   "cell_type": "code",
   "execution_count": 7,
   "metadata": {},
   "outputs": [
    {
     "data": {
      "text/html": [
       "<div>\n",
       "<style scoped>\n",
       "    .dataframe tbody tr th:only-of-type {\n",
       "        vertical-align: middle;\n",
       "    }\n",
       "\n",
       "    .dataframe tbody tr th {\n",
       "        vertical-align: top;\n",
       "    }\n",
       "\n",
       "    .dataframe thead th {\n",
       "        text-align: right;\n",
       "    }\n",
       "</style>\n",
       "<table border=\"1\" class=\"dataframe\">\n",
       "  <thead>\n",
       "    <tr style=\"text-align: right;\">\n",
       "      <th></th>\n",
       "      <th>author</th>\n",
       "      <th>gender</th>\n",
       "    </tr>\n",
       "  </thead>\n",
       "  <tbody>\n",
       "    <tr>\n",
       "      <th>0</th>\n",
       "      <td>RedThunder90</td>\n",
       "      <td>0</td>\n",
       "    </tr>\n",
       "    <tr>\n",
       "      <th>1</th>\n",
       "      <td>Lirkmor</td>\n",
       "      <td>1</td>\n",
       "    </tr>\n",
       "    <tr>\n",
       "      <th>2</th>\n",
       "      <td>In0chi</td>\n",
       "      <td>0</td>\n",
       "    </tr>\n",
       "    <tr>\n",
       "      <th>3</th>\n",
       "      <td>ProjectGrudge</td>\n",
       "      <td>0</td>\n",
       "    </tr>\n",
       "    <tr>\n",
       "      <th>4</th>\n",
       "      <td>TehTurtleHermit</td>\n",
       "      <td>0</td>\n",
       "    </tr>\n",
       "  </tbody>\n",
       "</table>\n",
       "</div>"
      ],
      "text/plain": [
       "            author  gender\n",
       "0     RedThunder90       0\n",
       "1          Lirkmor       1\n",
       "2           In0chi       0\n",
       "3    ProjectGrudge       0\n",
       "4  TehTurtleHermit       0"
      ]
     },
     "execution_count": 7,
     "metadata": {},
     "output_type": "execute_result"
    }
   ],
   "source": [
    "target.head()"
   ]
  },
  {
   "cell_type": "markdown",
   "metadata": {},
   "source": [
    "**Estraggo anche test set, mi serve per migliorare count vectorizer e tfidftransform()**"
   ]
  },
  {
   "cell_type": "code",
   "execution_count": 8,
   "metadata": {},
   "outputs": [],
   "source": [
    "test_data = pd.read_csv(\"/home/gdeandrea/Scrivania/UNI/Data Mining/ESAME2020/Kaggle data/test_data.csv\", encoding=\"utf8\")"
   ]
  },
  {
   "cell_type": "code",
   "execution_count": 9,
   "metadata": {},
   "outputs": [],
   "source": [
    "test_data.body = test_data['body'].apply(str)"
   ]
  },
  {
   "cell_type": "markdown",
   "metadata": {},
   "source": [
    "**Definisco funzione per estrazione testo da pandas dataframe**"
   ]
  },
  {
   "cell_type": "code",
   "execution_count": 10,
   "metadata": {},
   "outputs": [
    {
     "data": {
      "text/plain": [
       "'I still prefer to buy foods either grown locally or where animals are treated better, but this definitely has me looking at organic food differently.'"
      ]
     },
     "execution_count": 10,
     "metadata": {},
     "output_type": "execute_result"
    }
   ],
   "source": [
    "def extract_text(group):\n",
    "    group_text = group['body'].values\n",
    "    return \" \".join(group_text)\n",
    "\n",
    "extract_text(train_data[train_data.author=='RedThunder90'])\n",
    "#extract_text(train_data[train_data.subreddit=='sex'])"
   ]
  },
  {
   "cell_type": "markdown",
   "metadata": {},
   "source": [
    "**Creo dizionario con authori e testo del train set**"
   ]
  },
  {
   "cell_type": "code",
   "execution_count": 11,
   "metadata": {},
   "outputs": [
    {
     "data": {
      "text/plain": [
       "5000"
      ]
     },
     "execution_count": 11,
     "metadata": {},
     "output_type": "execute_result"
    }
   ],
   "source": [
    "# creo dizionario con 'keys'=author e valori = a quello che ha scritto l'autore\n",
    "\n",
    "text_dict = {}\n",
    "\n",
    "for author, group in train_data.groupby('author'):\n",
    "    text_dict[author] = extract_text(group)\n",
    "\n",
    "    \n",
    "len(text_dict)"
   ]
  },
  {
   "cell_type": "code",
   "execution_count": 12,
   "metadata": {},
   "outputs": [
    {
     "data": {
      "text/plain": [
       "5000"
      ]
     },
     "execution_count": 12,
     "metadata": {},
     "output_type": "execute_result"
    }
   ],
   "source": [
    "author_text = [text_dict[author] for author in target.author]\n",
    "len(author_text)"
   ]
  },
  {
   "cell_type": "markdown",
   "metadata": {},
   "source": [
    "**Creo dizionario con autori e testo del test set**"
   ]
  },
  {
   "cell_type": "code",
   "execution_count": 13,
   "metadata": {},
   "outputs": [
    {
     "data": {
      "text/plain": [
       "15000"
      ]
     },
     "execution_count": 13,
     "metadata": {},
     "output_type": "execute_result"
    }
   ],
   "source": [
    "text_dict_test = {}\n",
    "\n",
    "for author, group in test_data.groupby('author'):\n",
    "    text_dict_test[author] = extract_text(group)\n",
    "    \n",
    "len(text_dict_test)"
   ]
  },
  {
   "cell_type": "code",
   "execution_count": 14,
   "metadata": {},
   "outputs": [
    {
     "data": {
      "text/plain": [
       "15000"
      ]
     },
     "execution_count": 14,
     "metadata": {},
     "output_type": "execute_result"
    }
   ],
   "source": [
    "author_text_test = [text_dict_test[author] for author in test_data.author.unique()]\n",
    "len(author_text_test)"
   ]
  },
  {
   "cell_type": "markdown",
   "metadata": {},
   "source": [
    "**Metto insieme ai dati di train**\n"
   ]
  },
  {
   "cell_type": "code",
   "execution_count": 15,
   "metadata": {},
   "outputs": [
    {
     "data": {
      "text/plain": [
       "20000"
      ]
     },
     "execution_count": 15,
     "metadata": {},
     "output_type": "execute_result"
    }
   ],
   "source": [
    "author_text_total = author_text + author_text_test\n",
    "len(author_text_total)"
   ]
  },
  {
   "cell_type": "markdown",
   "metadata": {},
   "source": [
    "**Vettorizzo i commenti contando quante volte ogni autore usa una determinata parola e poi trasformo con tfidf**"
   ]
  },
  {
   "cell_type": "code",
   "execution_count": 16,
   "metadata": {},
   "outputs": [],
   "source": [
    "# estraggo il testo e lo converto in una matrice sparsa Xij \n",
    "# con i autore e j \"feature\" ovvero le parole usate nel suo testo che non fanno parte della lista stop_words.\n",
    "# N.B: posso usare come feature anche coppie di parole consecutive cambiando in ngram_range(1,2)\n",
    "# o entrambe (sia singole che coppie) usando ngram_range(0,2)\n",
    "\n",
    "from sklearn.feature_extraction import text\n",
    "\n",
    "vectorizer = text.CountVectorizer(max_df = 0.95, min_df = 0.01, stop_words = 'english')\n",
    "C = vectorizer.fit_transform(author_text_total)\n",
    "tfidf = text.TfidfTransformer().fit_transform(C)"
   ]
  },
  {
   "cell_type": "code",
   "execution_count": 17,
   "metadata": {},
   "outputs": [
    {
     "name": "stdout",
     "output_type": "stream",
     "text": [
      "SHAPE&TYPE TFIDF: (20000, 7118)  ||  <class 'numpy.ndarray'>\n"
     ]
    }
   ],
   "source": [
    "tfidf = tfidf.toarray()\n",
    "print('SHAPE&TYPE TFIDF:', shape(tfidf),' || ', type(tfidf))"
   ]
  },
  {
   "cell_type": "markdown",
   "metadata": {},
   "source": [
    "**Prendo come train set i primi 5000 tfidf**"
   ]
  },
  {
   "cell_type": "code",
   "execution_count": 18,
   "metadata": {},
   "outputs": [],
   "source": [
    "tfidf_train = tfidf[:5000]"
   ]
  },
  {
   "cell_type": "markdown",
   "metadata": {},
   "source": [
    "**Ricavo dati target**"
   ]
  },
  {
   "cell_type": "code",
   "execution_count": 19,
   "metadata": {},
   "outputs": [
    {
     "name": "stdout",
     "output_type": "stream",
     "text": [
      "<class 'pandas.core.series.Series'>   (5000,)\n"
     ]
    }
   ],
   "source": [
    "y = target.gender\n",
    "print(type(y),' ', shape(y))"
   ]
  },
  {
   "cell_type": "markdown",
   "metadata": {},
   "source": [
    "# Model Selection - TFIDF"
   ]
  },
  {
   "cell_type": "markdown",
   "metadata": {},
   "source": [
    "**Divido in set di train e di validation**"
   ]
  },
  {
   "cell_type": "code",
   "execution_count": 20,
   "metadata": {},
   "outputs": [],
   "source": [
    "from sklearn.model_selection import train_test_split\n",
    "X_train, X_test, y_train, y_test = train_test_split(tfidf_train, y, test_size=.2, random_state = 32)"
   ]
  },
  {
   "cell_type": "markdown",
   "metadata": {},
   "source": [
    "**Creo dizionario di modelli da utilizzare e stampo i risultati sul train set tfidf**"
   ]
  },
  {
   "cell_type": "code",
   "execution_count": 21,
   "metadata": {},
   "outputs": [],
   "source": [
    "#importo i modelli\n",
    "from sklearn.neighbors import KNeighborsClassifier\n",
    "from sklearn.naive_bayes import GaussianNB\n",
    "from sklearn.naive_bayes import MultinomialNB\n",
    "from sklearn.linear_model import LogisticRegression\n",
    "from sklearn.svm import SVC\n",
    "from sklearn.tree import DecisionTreeClassifier\n",
    "from sklearn.ensemble import RandomForestClassifier\n",
    "from sklearn.neural_network import MLPClassifier\n",
    "from collections import OrderedDict\n",
    "\n",
    "# creo dizionario dei modelli di classificazione\n",
    "# Multinomial Naive Bayes non funziona perchè dopo la PCA i dati possono assumere valori negativi (in X hanno valore 0 o 1 a seconda che l'autore abbia o no partecipato al subreddit)\n",
    "#PERCHé assumono vaori anche negativi? perchè sono nuove features combo lineari degli 0 e 1?\n",
    "models = OrderedDict([\n",
    "          ('Knn 5', KNeighborsClassifier(4)),\n",
    "          ('Gaussian Naive Bayes', GaussianNB()),\n",
    "          ('Multinomial Naive Bayes', MultinomialNB()),\n",
    "          ('Logistic Regression', LogisticRegression(solver='liblinear')), #uso liblinear, mlto efficiente su large and sparse datasets\n",
    "          #('Linear SVM', SVC(kernel='linear', probability=True)),\n",
    "          #('Poly SVM', SVC(kernel='poly', degree=2, probability=True)),\n",
    "          #('RBF SVM', SVC(kernel='rbf', gamma=2, C=1, probability=True)),\n",
    "          ('Classification Tree', DecisionTreeClassifier(max_depth=5)),\n",
    "          ('Random Forest', RandomForestClassifier(max_depth=5, n_estimators=100)),\n",
    "          ('Multilayer Perceptron', MLPClassifier((4,3,2), activation='tanh',solver='adam', early_stopping=True, max_iter=5000,\n",
    "                                                  learning_rate='invscaling', random_state=0))\n",
    "          ])"
   ]
  },
  {
   "cell_type": "code",
   "execution_count": 22,
   "metadata": {},
   "outputs": [
    {
     "name": "stdout",
     "output_type": "stream",
     "text": [
      "Knn 5 0.752\n",
      "Gaussian Naive Bayes 0.744\n",
      "Multinomial Naive Bayes 0.797\n",
      "Logistic Regression 0.83\n",
      "Classification Tree 0.772\n",
      "Random Forest 0.75\n",
      "Multilayer Perceptron 0.822\n",
      "\n",
      "Best model is  Logistic Regression with a score =  0.83\n"
     ]
    }
   ],
   "source": [
    "best_score=.0\n",
    "best_name=' '\n",
    "\n",
    "for name in models:\n",
    "    clf = models[name]\n",
    "    clf.fit(X_train, y_train)\n",
    "    score = clf.score(X_test, y_test)\n",
    "    if score>best_score:\n",
    "        best_score=score\n",
    "        best_name=name\n",
    "    print(name, score)\n",
    "    \n",
    "print('\\nBest model is ', best_name, 'with a score = ', best_score)"
   ]
  },
  {
   "cell_type": "markdown",
   "metadata": {},
   "source": [
    "## Logistic Regression - TFIDF"
   ]
  },
  {
   "cell_type": "code",
   "execution_count": 23,
   "metadata": {},
   "outputs": [
    {
     "name": "stdout",
     "output_type": "stream",
     "text": [
      "[1.e-02 1.e-01 1.e+00 1.e+01 1.e+02 1.e+03]\n",
      "\n",
      "Best C: 1.0\n",
      "\n",
      "Best score: 0.83 \n",
      "\n"
     ]
    },
    {
     "data": {
      "text/plain": [
       "Text(0, 0.5, 'Score (accuracy)')"
      ]
     },
     "execution_count": 23,
     "metadata": {},
     "output_type": "execute_result"
    },
    {
     "data": {
      "image/png": "[encoded data removed]",
      "text/plain": [
       "<Figure size 432x288 with 1 Axes>"
      ]
     },
     "metadata": {
      "needs_background": "light"
     },
     "output_type": "display_data"
    }
   ],
   "source": [
    "creg=logspace(-2,3,6)\n",
    "print(creg)\n",
    "scores=[]\n",
    "\n",
    "for c in creg:\n",
    "    logreg=LogisticRegression(solver='liblinear', C=c)\n",
    "    logreg.fit(X_train, y_train)\n",
    "    scores.append(logreg.score(X_test, y_test))\n",
    "    \n",
    "bestcreg = creg[np.argmax(scores)]\n",
    "    \n",
    "print ('\\nBest C:', creg[np.argmax(scores)])\n",
    "print ('\\nBest score:', scores[np.argmax(scores)],'\\n')\n",
    "\n",
    "semilogx(creg, scores)\n",
    "plt.vlines(creg[np.argmax(scores)], 0, scores[np.argmax(scores)], linestyles='dashed')\n",
    "plt.xlabel('Cs')\n",
    "plt.ylabel('Score (accuracy)')"
   ]
  },
  {
   "cell_type": "markdown",
   "metadata": {},
   "source": [
    "**Raffino la ricerca su best-C for logreg**"
   ]
  },
  {
   "cell_type": "code",
   "execution_count": 24,
   "metadata": {},
   "outputs": [
    {
     "name": "stdout",
     "output_type": "stream",
     "text": [
      "0.0\n",
      "[ 0.1         0.31622777  1.          3.16227766 10.        ]\n",
      "\n",
      "Best C: 3.1622776601683795\n",
      "\n",
      "Best score: 0.832 \n",
      "\n"
     ]
    }
   ],
   "source": [
    "a=log10(bestcreg)\n",
    "print(a)\n",
    "\n",
    "creg=logspace(a-1,a+1,5)\n",
    "print(creg)\n",
    "scores=[]\n",
    "\n",
    "for c in creg:\n",
    "    logreg=LogisticRegression(solver='liblinear', C=c)\n",
    "    logreg.fit(X_train, y_train)\n",
    "    scores.append(logreg.score(X_test, y_test))\n",
    "    \n",
    "bestcreg = creg[np.argmax(scores)]\n",
    "    \n",
    "print ('\\nBest C:', creg[np.argmax(scores)])\n",
    "print ('\\nBest score:', scores[np.argmax(scores)],'\\n')"
   ]
  },
  {
   "cell_type": "markdown",
   "metadata": {},
   "source": [
    "**Raffino ancora**"
   ]
  },
  {
   "cell_type": "code",
   "execution_count": 25,
   "metadata": {},
   "outputs": [
    {
     "name": "stdout",
     "output_type": "stream",
     "text": [
      "[ 1.          1.29154967  1.66810054  2.15443469  2.7825594   3.59381366\n",
      "  4.64158883  5.9948425   7.74263683 10.        ]\n",
      "\n",
      "Best C: 5.994842503189409\n",
      "\n",
      "Best score: 0.836 \n",
      "\n"
     ]
    }
   ],
   "source": [
    "creg=logspace(0,1,10)\n",
    "print(creg)\n",
    "scores=[]\n",
    "\n",
    "for c in creg:\n",
    "    logreg=LogisticRegression(solver='liblinear', C=c)\n",
    "    logreg.fit(X_train, y_train)\n",
    "    scores.append(logreg.score(X_test, y_test))\n",
    "    \n",
    "bestcreg = creg[np.argmax(scores)]\n",
    "    \n",
    "print ('\\nBest C:', creg[np.argmax(scores)])\n",
    "print ('\\nBest score:', scores[np.argmax(scores)],'\\n')"
   ]
  },
  {
   "cell_type": "markdown",
   "metadata": {},
   "source": [
    "## MLP - TFIDF"
   ]
  },
  {
   "cell_type": "code",
   "execution_count": 26,
   "metadata": {},
   "outputs": [
    {
     "name": "stdout",
     "output_type": "stream",
     "text": [
      "[1.e-04 1.e-03 1.e-02 1.e-01 1.e+00 1.e+01 1.e+02 1.e+03 1.e+04 1.e+05]\n",
      "\n",
      "Best Alpha: 0.1\n",
      "\n",
      "Best score: 0.824 \n",
      "\n",
      "Scores:  [0.822, 0.819, 0.823, 0.824, 0.737, 0.737, 0.263, 0.263, 0.263, 0.263]\n"
     ]
    },
    {
     "data": {
      "text/plain": [
       "Text(0, 0.5, 'Score (accuracy)')"
      ]
     },
     "execution_count": 26,
     "metadata": {},
     "output_type": "execute_result"
    },
    {
     "data": {
      "image/png": "[encoded data removed]",
      "text/plain": [
       "<Figure size 432x288 with 1 Axes>"
      ]
     },
     "metadata": {
      "needs_background": "light"
     },
     "output_type": "display_data"
    }
   ],
   "source": [
    "alphas=logspace(-4,5,10)\n",
    "scores=[]\n",
    "print(alphas)\n",
    "\n",
    "for alpha in alphas:\n",
    "    mlp=MLPClassifier((4,3,2), activation='tanh',solver='adam', early_stopping=True, max_iter=5000,\n",
    "                                                  learning_rate='invscaling', random_state=0, alpha=alpha).fit(X_train,y_train)\n",
    "    scores.append(mlp.score(X_test,y_test))\n",
    "    \n",
    "print ('\\nBest Alpha:', alphas[np.argmax(scores)])\n",
    "print ('\\nBest score:', scores[np.argmax(scores)],'\\n')\n",
    "\n",
    "bestalpha = alphas[np.argmax(scores)]\n",
    "print('Scores: ',scores)\n",
    "\n",
    "\n",
    "semilogx(alphas, scores)\n",
    "plt.vlines(alphas[np.argmax(scores)], 0, scores[np.argmax(scores)], linestyles='dashed')\n",
    "plt.xlabel('Alphas')\n",
    "plt.ylabel('Score (accuracy)')"
   ]
  },
  {
   "cell_type": "markdown",
   "metadata": {},
   "source": [
    "**Raffino la ricerca sul parametro d'ottimizzazione alpha**"
   ]
  },
  {
   "cell_type": "code",
   "execution_count": 27,
   "metadata": {},
   "outputs": [
    {
     "name": "stdout",
     "output_type": "stream",
     "text": [
      "[0.01       0.03162278 0.1        0.31622777 1.        ]\n",
      "\n",
      "Best Alpha: 0.31622776601683794\n",
      "\n",
      "Best score: 0.829 \n",
      "\n",
      "Scores:  [0.817, 0.825, 0.823, 0.829, 0.817]\n"
     ]
    },
    {
     "data": {
      "text/plain": [
       "Text(0, 0.5, 'Score (accuracy)')"
      ]
     },
     "execution_count": 27,
     "metadata": {},
     "output_type": "execute_result"
    },
    {
     "data": {
      "image/png": "[encoded data removed]",
      "text/plain": [
       "<Figure size 432x288 with 1 Axes>"
      ]
     },
     "metadata": {
      "needs_background": "light"
     },
     "output_type": "display_data"
    }
   ],
   "source": [
    "a=log10(bestalpha)\n",
    "\n",
    "alphas=logspace(a-1,a+1,5)\n",
    "scores=[]\n",
    "print(alphas)\n",
    "\n",
    "for alpha in alphas:\n",
    "    mlp=MLPClassifier((4,3,2), activation='tanh',solver='adam', early_stopping=True, max_iter=10000,\n",
    "                                                  learning_rate_init=0.01, random_state=0, alpha=alpha).fit(X_train,y_train)\n",
    "    scores.append(mlp.score(X_test,y_test))\n",
    "    \n",
    "print ('\\nBest Alpha:', alphas[np.argmax(scores)])\n",
    "print ('\\nBest score:', scores[np.argmax(scores)],'\\n')\n",
    "\n",
    "bestalpha = alphas[np.argmax(scores)]\n",
    "print('Scores: ', scores)\n",
    "\n",
    "semilogx(alphas, scores)\n",
    "plt.vlines(alphas[np.argmax(scores)], 0, scores[np.argmax(scores)], linestyles='dashed')\n",
    "plt.xlabel('Alphas')\n",
    "plt.ylabel('Score (accuracy)')"
   ]
  },
  {
   "cell_type": "markdown",
   "metadata": {},
   "source": [
    "## MultinomialNayveBayes - TFIDF"
   ]
  },
  {
   "cell_type": "code",
   "execution_count": 28,
   "metadata": {},
   "outputs": [
    {
     "name": "stdout",
     "output_type": "stream",
     "text": [
      "[1.e-02 1.e-01 1.e+00 1.e+01 1.e+02]\n",
      "\n",
      "Best Alfa: 0.01\n",
      "\n",
      "Best score: 0.821 \n",
      "\n",
      "Scores:  [0.821, 0.819, 0.797, 0.737, 0.737]\n"
     ]
    },
    {
     "data": {
      "text/plain": [
       "Text(0, 0.5, 'Score (accuracy)')"
      ]
     },
     "execution_count": 28,
     "metadata": {},
     "output_type": "execute_result"
    },
    {
     "data": {
      "image/png": "[encoded data removed]",
      "text/plain": [
       "<Figure size 432x288 with 1 Axes>"
      ]
     },
     "metadata": {
      "needs_background": "light"
     },
     "output_type": "display_data"
    }
   ],
   "source": [
    "alfas=logspace(-2,2,5)\n",
    "\n",
    "scores=[]\n",
    "print (alfas)\n",
    "\n",
    "for alfa in alfas:\n",
    "    mnb=MultinomialNB(alpha=alfa).fit(X_train,y_train)\n",
    "    scores.append(mnb.score(X_test,y_test))\n",
    "    \n",
    "print ('\\nBest Alfa:', alfas[np.argmax(scores)])\n",
    "print ('\\nBest score:', scores[np.argmax(scores)],'\\n')\n",
    "\n",
    "bestalfa = alfas[np.argmax(scores)]\n",
    "print('Scores: ', scores)\n",
    "\n",
    "semilogx(alfas, scores)\n",
    "plt.vlines(alfas[np.argmax(scores)], 0, scores[np.argmax(scores)], linestyles='dashed')\n",
    "plt.xlabel('Alfas')\n",
    "plt.ylabel('Score (accuracy)')"
   ]
  },
  {
   "cell_type": "markdown",
   "metadata": {},
   "source": [
    "**Raffino ancora**"
   ]
  },
  {
   "cell_type": "code",
   "execution_count": 29,
   "metadata": {},
   "outputs": [
    {
     "name": "stdout",
     "output_type": "stream",
     "text": [
      "[1.e-04 1.e-03 1.e-02 1.e-01 1.e+00]\n",
      "\n",
      "Best Alfa: 0.0001\n",
      "\n",
      "Best score: 0.822 \n",
      "\n",
      "Scores:  [0.822, 0.822, 0.821, 0.819, 0.797]\n"
     ]
    },
    {
     "data": {
      "text/plain": [
       "Text(0, 0.5, 'Score (accuracy)')"
      ]
     },
     "execution_count": 29,
     "metadata": {},
     "output_type": "execute_result"
    },
    {
     "data": {
      "image/png": "[encoded data removed]",
      "text/plain": [
       "<Figure size 432x288 with 1 Axes>"
      ]
     },
     "metadata": {
      "needs_background": "light"
     },
     "output_type": "display_data"
    }
   ],
   "source": [
    "a = log10(bestalfa)\n",
    "\n",
    "alfas=logspace(a-2,a+2,5)\n",
    "\n",
    "scores=[]\n",
    "print (alfas)\n",
    "\n",
    "for alfa in alfas:\n",
    "    mnb=MultinomialNB(alpha=alfa).fit(X_train,y_train)\n",
    "    scores.append(mnb.score(X_test,y_test))\n",
    "    \n",
    "print ('\\nBest Alfa:', alfas[np.argmax(scores)])\n",
    "print ('\\nBest score:', scores[np.argmax(scores)],'\\n')\n",
    "\n",
    "bestalfa = alfas[np.argmax(scores)]\n",
    "print('Scores: ', scores)\n",
    "\n",
    "semilogx(alfas, scores)\n",
    "plt.vlines(alfas[np.argmax(scores)], 0, scores[np.argmax(scores)], linestyles='dashed')\n",
    "plt.xlabel('Alfas')\n",
    "plt.ylabel('Score (accuracy)')"
   ]
  },
  {
   "cell_type": "markdown",
   "metadata": {},
   "source": [
    "## CALCOLO LE PREDICTED PROBA DEI 3 MODELLI PER TFIDF"
   ]
  },
  {
   "cell_type": "markdown",
   "metadata": {},
   "source": [
    "**Uso tutto il dataset per allenare la migliroe logistic, mlp e naive bayes e calcolo le predicted proba dei tre modelli**"
   ]
  },
  {
   "cell_type": "code",
   "execution_count": 30,
   "metadata": {},
   "outputs": [],
   "source": [
    "LogReg = LogisticRegression(solver='liblinear', C=bestcreg).fit(tfidf_train,y)\n",
    "MLP = MLPClassifier((4,3,2), activation='tanh',solver='adam', early_stopping=True, max_iter=10000,\n",
    "                                                  learning_rate_init=0.01, random_state=0, alpha=bestalpha).fit(tfidf_train,y)\n",
    "MNB = MultinomialNB(alpha=bestalfa).fit(tfidf_train,y)\n",
    "\n",
    "#prendo solo la seconda colonna, quella che indica la probabilità che author sia donna\n",
    "proba1 = LogReg.predict_proba(tfidf_train)[:,1]\n",
    "proba2 = MLP.predict_proba(tfidf_train)[:,1]\n",
    "proba3 = MNB.predict_proba(tfidf_train)[:,1]\n",
    "\n",
    "#trasformo in matrici autori x predictedproba\n",
    "Proba1 = reshape(proba1,(5000,1))\n",
    "Proba2 = reshape(proba2,(5000,1))\n",
    "Proba3 = reshape(proba3,(5000,1))\n",
    "\n",
    "#creo un'unica matrice di dati\n",
    "PTOT = hstack([Proba1,Proba2,Proba3])"
   ]
  },
  {
   "cell_type": "code",
   "execution_count": 31,
   "metadata": {},
   "outputs": [
    {
     "data": {
      "text/plain": [
       "(5000, 3)"
      ]
     },
     "execution_count": 31,
     "metadata": {},
     "output_type": "execute_result"
    }
   ],
   "source": [
    "shape(PTOT)"
   ]
  },
  {
   "cell_type": "markdown",
   "metadata": {},
   "source": [
    "## Logistic Regression on predict_proba from 3 models - TFIDF"
   ]
  },
  {
   "cell_type": "code",
   "execution_count": 32,
   "metadata": {},
   "outputs": [],
   "source": [
    "X_train, X_test, y_train, y_test = train_test_split(PTOT, y, test_size=.2, random_state = 32)"
   ]
  },
  {
   "cell_type": "code",
   "execution_count": 33,
   "metadata": {},
   "outputs": [
    {
     "name": "stdout",
     "output_type": "stream",
     "text": [
      "Score =  0.789  C=  0.001\n",
      "Score =  0.936  C=  0.01\n",
      "Score =  0.959  C=  0.1\n",
      "Score =  0.976  C=  1.0\n",
      "Score =  0.978  C=  10.0\n",
      "Score =  0.977  C=  100.0\n",
      "Score =  0.977  C=  1000.0\n",
      "Score =  0.977  C=  10000.0\n",
      "Score =  0.977  C=  100000.0\n",
      "Score =  0.977  C=  1000000.0\n",
      "BEST C IS:  10.0\n"
     ]
    }
   ],
   "source": [
    "Cs=logspace(-3,6,10)\n",
    "scores=[]\n",
    "\n",
    "for c in Cs:\n",
    "    LRTOT=LogisticRegression(solver='liblinear', C=c).fit(X_train,y_train)\n",
    "    score=LRTOT.score(X_test, y_test)\n",
    "    scores.append(score)\n",
    "    print('Score = ', score,' C= ', c)\n",
    "    \n",
    "best_c = Cs[np.argmax(scores)]\n",
    "print('BEST C IS: ', best_c)"
   ]
  },
  {
   "cell_type": "code",
   "execution_count": 34,
   "metadata": {},
   "outputs": [
    {
     "data": {
      "text/plain": [
       "(5000, 1)"
      ]
     },
     "execution_count": 34,
     "metadata": {},
     "output_type": "execute_result"
    }
   ],
   "source": [
    "LR=LogisticRegression(solver='liblinear', C=best_c).fit(PTOT,y)\n",
    "predictions_output = LR.predict_proba(PTOT)[:,1]\n",
    "TFIDF=reshape(predictions_output,(5000,1))\n",
    "shape(TFIDF)"
   ]
  },
  {
   "cell_type": "markdown",
   "metadata": {},
   "source": [
    "# Export train data to csv\n",
    "**Esporto le predicted proba del modello finale sul train set da usare in MERGINGDATA.ipynb**"
   ]
  },
  {
   "cell_type": "code",
   "execution_count": 37,
   "metadata": {},
   "outputs": [
    {
     "data": {
      "text/html": [
       "<div>\n",
       "<style scoped>\n",
       "    .dataframe tbody tr th:only-of-type {\n",
       "        vertical-align: middle;\n",
       "    }\n",
       "\n",
       "    .dataframe tbody tr th {\n",
       "        vertical-align: top;\n",
       "    }\n",
       "\n",
       "    .dataframe thead th {\n",
       "        text-align: right;\n",
       "    }\n",
       "</style>\n",
       "<table border=\"1\" class=\"dataframe\">\n",
       "  <thead>\n",
       "    <tr style=\"text-align: right;\">\n",
       "      <th></th>\n",
       "      <th>author</th>\n",
       "      <th>TFIDF</th>\n",
       "    </tr>\n",
       "  </thead>\n",
       "  <tbody>\n",
       "    <tr>\n",
       "      <th>4995</th>\n",
       "      <td>BrennanDobak</td>\n",
       "      <td>0.001651</td>\n",
       "    </tr>\n",
       "    <tr>\n",
       "      <th>4996</th>\n",
       "      <td>J_Mallory</td>\n",
       "      <td>0.998324</td>\n",
       "    </tr>\n",
       "    <tr>\n",
       "      <th>4997</th>\n",
       "      <td>MasonJarTeaDrinker</td>\n",
       "      <td>0.012827</td>\n",
       "    </tr>\n",
       "    <tr>\n",
       "      <th>4998</th>\n",
       "      <td>Thegirlonfire5</td>\n",
       "      <td>0.995905</td>\n",
       "    </tr>\n",
       "    <tr>\n",
       "      <th>4999</th>\n",
       "      <td>emptyRR</td>\n",
       "      <td>0.002230</td>\n",
       "    </tr>\n",
       "  </tbody>\n",
       "</table>\n",
       "</div>"
      ],
      "text/plain": [
       "                  author     TFIDF\n",
       "4995        BrennanDobak  0.001651\n",
       "4996           J_Mallory  0.998324\n",
       "4997  MasonJarTeaDrinker  0.012827\n",
       "4998      Thegirlonfire5  0.995905\n",
       "4999             emptyRR  0.002230"
      ]
     },
     "execution_count": 37,
     "metadata": {},
     "output_type": "execute_result"
    }
   ],
   "source": [
    "TFIDF_train_output = pd.DataFrame({\"author\":train_data.author.unique(), \"TFIDF\":predictions_output})\n",
    "#TFIDF_train_output.head()\n",
    "TFIDF_train_output.tail()"
   ]
  },
  {
   "cell_type": "code",
   "execution_count": 38,
   "metadata": {},
   "outputs": [],
   "source": [
    "TFIDF_train_output.to_csv(\"TFIDF_train_output.csv\", index=False)"
   ]
  },
  {
   "cell_type": "markdown",
   "metadata": {},
   "source": [
    "# Prepare the solution"
   ]
  },
  {
   "cell_type": "markdown",
   "metadata": {},
   "source": [
    "**Riprendo i dati di test gia vettorizzati in tfidf prima**"
   ]
  },
  {
   "cell_type": "code",
   "execution_count": 71,
   "metadata": {},
   "outputs": [
    {
     "data": {
      "text/plain": [
       "15000"
      ]
     },
     "execution_count": 71,
     "metadata": {},
     "output_type": "execute_result"
    }
   ],
   "source": [
    "tfidf_test = tfidf[5000:]\n",
    "len(tfidf_test)"
   ]
  },
  {
   "cell_type": "code",
   "execution_count": 72,
   "metadata": {},
   "outputs": [
    {
     "data": {
      "text/plain": [
       "(15000, 1)"
      ]
     },
     "execution_count": 72,
     "metadata": {},
     "output_type": "execute_result"
    }
   ],
   "source": [
    "prob1=LogReg.predict_proba(tfidf_test)[:,1]\n",
    "prob2=MLP.predict_proba(tfidf_test)[:,1]\n",
    "prob3=MNB.predict_proba(tfidf_test)[:,1]\n",
    "\n",
    "Prob1=reshape(prob1,(15000,1))\n",
    "Prob2=reshape(prob2,(15000,1))\n",
    "Prob3=reshape(prob3,(15000,1))\n",
    "shape(Prob1)"
   ]
  },
  {
   "cell_type": "code",
   "execution_count": 73,
   "metadata": {},
   "outputs": [
    {
     "data": {
      "text/plain": [
       "(15000, 3)"
      ]
     },
     "execution_count": 73,
     "metadata": {},
     "output_type": "execute_result"
    }
   ],
   "source": [
    "XTOT = hstack([Prob1,Prob2,Prob3])\n",
    "shape(XTOT)"
   ]
  },
  {
   "cell_type": "code",
   "execution_count": 78,
   "metadata": {},
   "outputs": [],
   "source": [
    "y_pred = LR.predict_proba(XTOT)[:,1]"
   ]
  },
  {
   "cell_type": "code",
   "execution_count": 79,
   "metadata": {},
   "outputs": [
    {
     "data": {
      "text/html": [
       "<div>\n",
       "<style scoped>\n",
       "    .dataframe tbody tr th:only-of-type {\n",
       "        vertical-align: middle;\n",
       "    }\n",
       "\n",
       "    .dataframe tbody tr th {\n",
       "        vertical-align: top;\n",
       "    }\n",
       "\n",
       "    .dataframe thead th {\n",
       "        text-align: right;\n",
       "    }\n",
       "</style>\n",
       "<table border=\"1\" class=\"dataframe\">\n",
       "  <thead>\n",
       "    <tr style=\"text-align: right;\">\n",
       "      <th></th>\n",
       "      <th>author</th>\n",
       "      <th>gender</th>\n",
       "    </tr>\n",
       "  </thead>\n",
       "  <tbody>\n",
       "    <tr>\n",
       "      <th>0</th>\n",
       "      <td>ejchristian86</td>\n",
       "      <td>0.999932</td>\n",
       "    </tr>\n",
       "    <tr>\n",
       "      <th>1</th>\n",
       "      <td>ZenDragon</td>\n",
       "      <td>0.002011</td>\n",
       "    </tr>\n",
       "    <tr>\n",
       "      <th>2</th>\n",
       "      <td>savoytruffle</td>\n",
       "      <td>0.001946</td>\n",
       "    </tr>\n",
       "    <tr>\n",
       "      <th>3</th>\n",
       "      <td>hentercenter</td>\n",
       "      <td>0.206546</td>\n",
       "    </tr>\n",
       "    <tr>\n",
       "      <th>4</th>\n",
       "      <td>rick-o-suave</td>\n",
       "      <td>0.029035</td>\n",
       "    </tr>\n",
       "  </tbody>\n",
       "</table>\n",
       "</div>"
      ],
      "text/plain": [
       "          author    gender\n",
       "0  ejchristian86  0.999932\n",
       "1      ZenDragon  0.002011\n",
       "2   savoytruffle  0.001946\n",
       "3   hentercenter  0.206546\n",
       "4   rick-o-suave  0.029035"
      ]
     },
     "execution_count": 79,
     "metadata": {},
     "output_type": "execute_result"
    }
   ],
   "source": [
    "solution = pd.DataFrame({\"author\":test_data.author.unique(), \"gender\":y_pred})\n",
    "solution.head()"
   ]
  },
  {
   "cell_type": "code",
   "execution_count": 81,
   "metadata": {},
   "outputs": [
    {
     "data": {
      "text/html": [
       "<div>\n",
       "<style scoped>\n",
       "    .dataframe tbody tr th:only-of-type {\n",
       "        vertical-align: middle;\n",
       "    }\n",
       "\n",
       "    .dataframe tbody tr th {\n",
       "        vertical-align: top;\n",
       "    }\n",
       "\n",
       "    .dataframe thead th {\n",
       "        text-align: right;\n",
       "    }\n",
       "</style>\n",
       "<table border=\"1\" class=\"dataframe\">\n",
       "  <thead>\n",
       "    <tr style=\"text-align: right;\">\n",
       "      <th></th>\n",
       "      <th>author</th>\n",
       "      <th>gender</th>\n",
       "    </tr>\n",
       "  </thead>\n",
       "  <tbody>\n",
       "    <tr>\n",
       "      <th>14995</th>\n",
       "      <td>oneblazeofglory</td>\n",
       "      <td>0.999891</td>\n",
       "    </tr>\n",
       "    <tr>\n",
       "      <th>14996</th>\n",
       "      <td>prettydamnquick</td>\n",
       "      <td>0.000512</td>\n",
       "    </tr>\n",
       "    <tr>\n",
       "      <th>14997</th>\n",
       "      <td>The-Rtnb-Ab-Traxv</td>\n",
       "      <td>0.012098</td>\n",
       "    </tr>\n",
       "    <tr>\n",
       "      <th>14998</th>\n",
       "      <td>TheGrandRebel</td>\n",
       "      <td>0.023987</td>\n",
       "    </tr>\n",
       "    <tr>\n",
       "      <th>14999</th>\n",
       "      <td>C-BASS</td>\n",
       "      <td>0.006664</td>\n",
       "    </tr>\n",
       "  </tbody>\n",
       "</table>\n",
       "</div>"
      ],
      "text/plain": [
       "                  author    gender\n",
       "14995    oneblazeofglory  0.999891\n",
       "14996    prettydamnquick  0.000512\n",
       "14997  The-Rtnb-Ab-Traxv  0.012098\n",
       "14998      TheGrandRebel  0.023987\n",
       "14999             C-BASS  0.006664"
      ]
     },
     "execution_count": 81,
     "metadata": {},
     "output_type": "execute_result"
    }
   ],
   "source": [
    "solution.tail()"
   ]
  },
  {
   "cell_type": "code",
   "execution_count": 82,
   "metadata": {},
   "outputs": [],
   "source": [
    "solution.to_csv(\"solutionTFIDF.csv\", index=False)"
   ]
  },
  {
   "cell_type": "code",
   "execution_count": 83,
   "metadata": {},
   "outputs": [
    {
     "name": "stdout",
     "output_type": "stream",
     "text": [
      "author,gender\n",
      "ejchristian86,0.9999320588725689\n",
      "ZenDragon,0.002010673194149476\n",
      "savoytruffle,0.0019464370536465424\n",
      "hentercenter,0.2065456481046098\n",
      "rick-o-suave,0.029035077482621154\n",
      "olivermihoff,0.7920543638236173\n",
      "Cleriesse,0.9986529525595649\n",
      "murderer_of_death,0.0009280359608915621\n",
      "SpiralSoul,0.07819362420009271\n"
     ]
    }
   ],
   "source": [
    "%%sh\n",
    "head solutionTFIDF.csv"
   ]
  },
  {
   "cell_type": "code",
   "execution_count": null,
   "metadata": {},
   "outputs": [],
   "source": []
  },
  {
   "cell_type": "code",
   "execution_count": null,
   "metadata": {},
   "outputs": [],
   "source": []
  },
  {
   "cell_type": "code",
   "execution_count": null,
   "metadata": {},
   "outputs": [],
   "source": []
  }
 ],
 "metadata": {
  "kernelspec": {
   "display_name": "Python 3",
   "language": "python",
   "name": "python3"
  },
  "language_info": {
   "codemirror_mode": {
    "name": "ipython",
    "version": 3
   },
   "file_extension": ".py",
   "mimetype": "text/x-python",
   "name": "python",
   "nbconvert_exporter": "python",
   "pygments_lexer": "ipython3",
   "version": "3.7.3"
  }
 },
 "nbformat": 4,
 "nbformat_minor": 1
}
